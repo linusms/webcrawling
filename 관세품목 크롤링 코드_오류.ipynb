{
  "cells": [
    {
      "cell_type": "code",
      "execution_count": 13,
      "metadata": {
        "id": "NXQOQPOVUT3M"
      },
      "outputs": [],
      "source": [
        "!pip install beautifulsoup4 webdriver_manager\n",
        "\n",
        "from IPython.display import clear_output\n",
        "\n",
        "\n",
        "clear_output()"
      ]
    },
    {
      "cell_type": "code",
      "execution_count": 19,
      "metadata": {
        "id": "ujRYadyaUT3T"
      },
      "outputs": [],
      "source": [
        "\n",
        "# # 크롬 드라이버 생성\n",
        "# driver = webdriver.Chrome(service=ChromeService(ChromeDriverManager().install()))\n",
        "\n",
        "# # Google 웹사이트에 접속\n",
        "# driver.get(\"https://www.google.com\")\n",
        "\n",
        "# # 검색 입력창 찾기 (검색창의 이름이 'q')\n",
        "# search_box = driver.find_element(By.NAME, 'q')\n",
        "\n",
        "# # 검색어 입력\n",
        "# search_box.send_keys('Jennie')\n",
        "\n",
        "# # 검색 실행\n",
        "# search_box.submit()\n",
        "# time.sleep(5)\n",
        "\n",
        "# # 결과 페이지 스크린샷 저장\n",
        "# driver.save_screenshot('search_results.png')\n",
        "\n",
        "# # 브라우저 종료\n",
        "# driver.quit()"
      ]
    },
    {
      "cell_type": "code",
      "source": [
        "%%shell\n",
        "sudo apt -y update\n",
        "sudo apt install -y wget curl unzip\n",
        "wget http://archive.ubuntu.com/ubuntu/pool/main/libu/libu2f-host/libu2f-udev_1.1.4-1_all.deb\n",
        "dpkg -i libu2f-udev_1.1.4-1_all.deb\n",
        "wget https://dl.google.com/linux/direct/google-chrome-stable_current_amd64.deb\n",
        "dpkg -i google-chrome-stable_current_amd64.deb\n",
        "CHROME_DRIVER_VERSION=`curl -sS chromedriver.storage.googleapis.com/LATEST_RELEASE`\n",
        "wget -N https://chromedriver.storage.googleapis.com/$CHROME_DRIVER_VERSION/chromedriver_linux64.zip -P /tmp/\n",
        "unzip -o /tmp/chromedriver_linux64.zip -d /tmp/\n",
        "chmod +x /tmp/chromedriver\n",
        "mv /tmp/chromedriver /usr/local/bin/chromedriver\n",
        "pip install selenium"
      ],
      "metadata": {
        "id": "EhDTk_xPVS2i",
        "outputId": "e2b1fe7c-71d6-4597-e60c-39847f310613",
        "colab": {
          "base_uri": "https://localhost:8080/"
        }
      },
      "execution_count": 2,
      "outputs": [
        {
          "output_type": "stream",
          "name": "stdout",
          "text": [
            "\u001b[33m\r0% [Working]\u001b[0m\r            \rHit:1 http://security.ubuntu.com/ubuntu jammy-security InRelease\n",
            "\u001b[33m\r0% [Connecting to archive.ubuntu.com] [Connected to cloud.r-project.org (3.171.\u001b[0m\r                                                                               \rHit:2 https://cloud.r-project.org/bin/linux/ubuntu jammy-cran40/ InRelease\n",
            "\u001b[33m\r0% [Connecting to archive.ubuntu.com (91.189.91.82)] [Connected to r2u.stat.ill\u001b[0m\r                                                                               \rHit:3 http://archive.ubuntu.com/ubuntu jammy InRelease\n",
            "\u001b[33m\r0% [Waiting for headers] [Waiting for headers] [Waiting for headers] [Connected\u001b[0m\r                                                                               \rHit:4 https://developer.download.nvidia.com/compute/cuda/repos/ubuntu2204/x86_64  InRelease\n",
            "\u001b[33m\r0% [Waiting for headers] [Waiting for headers] [Connected to ppa.launchpadconte\u001b[0m\r                                                                               \rHit:5 http://archive.ubuntu.com/ubuntu jammy-updates InRelease\n",
            "\u001b[33m\r0% [Waiting for headers] [Waiting for headers] [Connected to ppa.launchpadconte\u001b[0m\r                                                                               \rHit:6 http://archive.ubuntu.com/ubuntu jammy-backports InRelease\n",
            "Hit:7 https://r2u.stat.illinois.edu/ubuntu jammy InRelease\n",
            "Hit:8 https://ppa.launchpadcontent.net/deadsnakes/ppa/ubuntu jammy InRelease\n",
            "Hit:9 https://ppa.launchpadcontent.net/graphics-drivers/ppa/ubuntu jammy InRelease\n",
            "Hit:10 https://ppa.launchpadcontent.net/ubuntugis/ppa/ubuntu jammy InRelease\n",
            "Reading package lists... Done\n",
            "Building dependency tree... Done\n",
            "Reading state information... Done\n",
            "51 packages can be upgraded. Run 'apt list --upgradable' to see them.\n",
            "\u001b[1;33mW: \u001b[0mSkipping acquire of configured file 'main/source/Sources' as repository 'https://r2u.stat.illinois.edu/ubuntu jammy InRelease' does not seem to provide it (sources.list entry misspelt?)\u001b[0m\n",
            "Reading package lists... Done\n",
            "Building dependency tree... Done\n",
            "Reading state information... Done\n",
            "curl is already the newest version (7.81.0-1ubuntu1.19).\n",
            "unzip is already the newest version (6.0-26ubuntu3.2).\n",
            "wget is already the newest version (1.21.2-2ubuntu1.1).\n",
            "You might want to run 'apt --fix-broken install' to correct these.\n",
            "The following packages have unmet dependencies:\n",
            " google-chrome-stable : Depends: libvulkan1 but it is not going to be installed\n",
            "\u001b[1;31mE: \u001b[0mUnmet dependencies. Try 'apt --fix-broken install' with no packages (or specify a solution).\u001b[0m\n",
            "--2024-12-06 06:40:42--  http://archive.ubuntu.com/ubuntu/pool/main/libu/libu2f-host/libu2f-udev_1.1.4-1_all.deb\n",
            "Resolving archive.ubuntu.com (archive.ubuntu.com)... 91.189.91.82, 91.189.91.81, 185.125.190.81, ...\n",
            "Connecting to archive.ubuntu.com (archive.ubuntu.com)|91.189.91.82|:80... connected.\n",
            "HTTP request sent, awaiting response... 200 OK\n",
            "Length: 3708 (3.6K) [application/vnd.debian.binary-package]\n",
            "Saving to: ‘libu2f-udev_1.1.4-1_all.deb.2’\n",
            "\n",
            "libu2f-udev_1.1.4-1 100%[===================>]   3.62K  --.-KB/s    in 0s      \n",
            "\n",
            "2024-12-06 06:40:42 (363 MB/s) - ‘libu2f-udev_1.1.4-1_all.deb.2’ saved [3708/3708]\n",
            "\n",
            "(Reading database ... 123753 files and directories currently installed.)\n",
            "Preparing to unpack libu2f-udev_1.1.4-1_all.deb ...\n",
            "Unpacking libu2f-udev (1.1.4-1) over (1.1.4-1) ...\n",
            "Setting up libu2f-udev (1.1.4-1) ...\n",
            "--2024-12-06 06:40:43--  https://dl.google.com/linux/direct/google-chrome-stable_current_amd64.deb\n",
            "Resolving dl.google.com (dl.google.com)... 74.125.141.136, 74.125.141.93, 74.125.141.190, ...\n",
            "Connecting to dl.google.com (dl.google.com)|74.125.141.136|:443... connected.\n",
            "HTTP request sent, awaiting response... 200 OK\n",
            "Length: 112377704 (107M) [application/x-debian-package]\n",
            "Saving to: ‘google-chrome-stable_current_amd64.deb.2’\n",
            "\n",
            "google-chrome-stabl 100%[===================>] 107.17M   295MB/s    in 0.4s    \n",
            "\n",
            "2024-12-06 06:40:43 (295 MB/s) - ‘google-chrome-stable_current_amd64.deb.2’ saved [112377704/112377704]\n",
            "\n",
            "(Reading database ... 123753 files and directories currently installed.)\n",
            "Preparing to unpack google-chrome-stable_current_amd64.deb ...\n",
            "Unpacking google-chrome-stable (131.0.6778.108-1) over (131.0.6778.108-1) ...\n",
            "\u001b[1mdpkg:\u001b[0m dependency problems prevent configuration of google-chrome-stable:\n",
            " google-chrome-stable depends on libvulkan1; however:\n",
            "  Package libvulkan1 is not installed.\n",
            "\n",
            "\u001b[1mdpkg:\u001b[0m error processing package google-chrome-stable (--install):\n",
            " dependency problems - leaving unconfigured\n",
            "Processing triggers for man-db (2.10.2-1) ...\n",
            "Errors were encountered while processing:\n",
            " google-chrome-stable\n",
            "--2024-12-06 06:40:57--  https://chromedriver.storage.googleapis.com/114.0.5735.90/chromedriver_linux64.zip\n",
            "Resolving chromedriver.storage.googleapis.com (chromedriver.storage.googleapis.com)... 173.194.215.207, 173.194.216.207, 173.194.217.207, ...\n",
            "Connecting to chromedriver.storage.googleapis.com (chromedriver.storage.googleapis.com)|173.194.215.207|:443... connected.\n",
            "HTTP request sent, awaiting response... 304 Not Modified\n",
            "File ‘/tmp/chromedriver_linux64.zip’ not modified on server. Omitting download.\n",
            "\n",
            "Archive:  /tmp/chromedriver_linux64.zip\n",
            "  inflating: /tmp/chromedriver       \n",
            "  inflating: /tmp/LICENSE.chromedriver  \n",
            "Requirement already satisfied: selenium in /usr/local/lib/python3.10/dist-packages (4.27.1)\n",
            "Requirement already satisfied: urllib3<3,>=1.26 in /usr/local/lib/python3.10/dist-packages (from urllib3[socks]<3,>=1.26->selenium) (2.2.3)\n",
            "Requirement already satisfied: trio~=0.17 in /usr/local/lib/python3.10/dist-packages (from selenium) (0.27.0)\n",
            "Requirement already satisfied: trio-websocket~=0.9 in /usr/local/lib/python3.10/dist-packages (from selenium) (0.11.1)\n",
            "Requirement already satisfied: certifi>=2021.10.8 in /usr/local/lib/python3.10/dist-packages (from selenium) (2024.8.30)\n",
            "Requirement already satisfied: typing_extensions~=4.9 in /usr/local/lib/python3.10/dist-packages (from selenium) (4.12.2)\n",
            "Requirement already satisfied: websocket-client~=1.8 in /usr/local/lib/python3.10/dist-packages (from selenium) (1.8.0)\n",
            "Requirement already satisfied: attrs>=23.2.0 in /usr/local/lib/python3.10/dist-packages (from trio~=0.17->selenium) (24.2.0)\n",
            "Requirement already satisfied: sortedcontainers in /usr/local/lib/python3.10/dist-packages (from trio~=0.17->selenium) (2.4.0)\n",
            "Requirement already satisfied: idna in /usr/local/lib/python3.10/dist-packages (from trio~=0.17->selenium) (3.10)\n",
            "Requirement already satisfied: outcome in /usr/local/lib/python3.10/dist-packages (from trio~=0.17->selenium) (1.3.0.post0)\n",
            "Requirement already satisfied: sniffio>=1.3.0 in /usr/local/lib/python3.10/dist-packages (from trio~=0.17->selenium) (1.3.1)\n",
            "Requirement already satisfied: exceptiongroup in /usr/local/lib/python3.10/dist-packages (from trio~=0.17->selenium) (1.2.2)\n",
            "Requirement already satisfied: wsproto>=0.14 in /usr/local/lib/python3.10/dist-packages (from trio-websocket~=0.9->selenium) (1.2.0)\n",
            "Requirement already satisfied: pysocks!=1.5.7,<2.0,>=1.5.6 in /usr/local/lib/python3.10/dist-packages (from urllib3[socks]<3,>=1.26->selenium) (1.7.1)\n",
            "Requirement already satisfied: h11<1,>=0.9.0 in /usr/local/lib/python3.10/dist-packages (from wsproto>=0.14->trio-websocket~=0.9->selenium) (0.14.0)\n"
          ]
        },
        {
          "output_type": "execute_result",
          "data": {
            "text/plain": []
          },
          "metadata": {},
          "execution_count": 2
        }
      ]
    },
    {
      "cell_type": "code",
      "source": [
        "!apt-get update\n",
        "\n",
        "# (최초 1회)\n",
        "!apt install chromium-chromedriver\n",
        "!cp /usr/lib/chromium-browser/chromedriver\n",
        "!pip install chromedriver-autoinstaller\n"
      ],
      "metadata": {
        "id": "WC3N381ZVk_d",
        "outputId": "2b7e8b98-db49-40d0-9cba-74f0ffa29a65",
        "colab": {
          "base_uri": "https://localhost:8080/"
        }
      },
      "execution_count": 6,
      "outputs": [
        {
          "output_type": "stream",
          "name": "stdout",
          "text": [
            "\r0% [Working]\r            \rHit:1 https://cloud.r-project.org/bin/linux/ubuntu jammy-cran40/ InRelease\n",
            "Hit:2 https://developer.download.nvidia.com/compute/cuda/repos/ubuntu2204/x86_64  InRelease\n",
            "Hit:3 http://archive.ubuntu.com/ubuntu jammy InRelease\n",
            "Hit:4 http://archive.ubuntu.com/ubuntu jammy-updates InRelease\n",
            "Hit:5 http://security.ubuntu.com/ubuntu jammy-security InRelease\n",
            "Hit:6 https://r2u.stat.illinois.edu/ubuntu jammy InRelease\n",
            "Hit:7 http://archive.ubuntu.com/ubuntu jammy-backports InRelease\n",
            "Hit:8 https://ppa.launchpadcontent.net/deadsnakes/ppa/ubuntu jammy InRelease\n",
            "Hit:9 https://ppa.launchpadcontent.net/graphics-drivers/ppa/ubuntu jammy InRelease\n",
            "Hit:10 https://ppa.launchpadcontent.net/ubuntugis/ppa/ubuntu jammy InRelease\n",
            "Reading package lists... Done\n",
            "W: Skipping acquire of configured file 'main/source/Sources' as repository 'https://r2u.stat.illinois.edu/ubuntu jammy InRelease' does not seem to provide it (sources.list entry misspelt?)\n",
            "Reading package lists... Done\n",
            "Building dependency tree... Done\n",
            "Reading state information... Done\n",
            "You might want to run 'apt --fix-broken install' to correct these.\n",
            "The following packages have unmet dependencies:\n",
            " chromium-chromedriver : Depends: chromium-browser (>= 1:85.0.4183.83-0ubuntu2.22.04.1) but it is not going to be installed\n",
            " google-chrome-stable : Depends: libvulkan1 but it is not going to be installed\n",
            "\u001b[1;31mE: \u001b[0mUnmet dependencies. Try 'apt --fix-broken install' with no packages (or specify a solution).\u001b[0m\n",
            "cp: missing destination file operand after '/usr/lib/chromium-browser/chromedriver'\n",
            "Try 'cp --help' for more information.\n",
            "Requirement already satisfied: chromedriver-autoinstaller in /usr/local/lib/python3.10/dist-packages (0.6.4)\n",
            "Requirement already satisfied: packaging>=23.1 in /usr/local/lib/python3.10/dist-packages (from chromedriver-autoinstaller) (24.2)\n"
          ]
        }
      ]
    },
    {
      "cell_type": "code",
      "source": [
        "chrome_path = \"/usr/lib/chromium-browser/chromedriver\""
      ],
      "metadata": {
        "id": "KPRLQhIrVWg6"
      },
      "execution_count": 8,
      "outputs": []
    },
    {
      "cell_type": "code",
      "source": [
        "import requests\n",
        "import time\n",
        "from selenium.webdriver.chrome.service import Service as ChromeService\n",
        "from webdriver_manager.chrome import ChromeDriverManager\n",
        "from selenium.webdriver.common.by import By\n",
        "from selenium import webdriver\n",
        "from selenium.webdriver.chrome.options import Options\n",
        "from selenium.webdriver.common.keys import Keys\n",
        "\n",
        "from bs4 import BeautifulSoup\n",
        "import pandas as pd\n",
        "\n",
        "import sys\n",
        "import os\n",
        "\n",
        "from tqdm import tqdm\n",
        "import time\n",
        "import pandas as pd\n",
        "import chromedriver_autoinstaller  # setup chrome options\n",
        "\n",
        "sys.path.insert(0,chrome_path)\n",
        "chrome_options = webdriver.ChromeOptions()\n",
        "chrome_options.add_argument('--headless') # ensure GUI is off\n",
        "chrome_options.add_argument('--no-sandbox')\n",
        "chrome_options.add_argument('--disable-dev-shm-usage')  # set path to chromedriver as per your configuration\n",
        "chrome_options.add_argument('lang=ko_KR') # 한국어\n",
        "\n",
        "chromedriver_autoinstaller.install()  # set the target URL"
      ],
      "metadata": {
        "id": "0mMrq_WpVZGt",
        "outputId": "55a13215-67b5-4e2b-af70-c4483a9c9ba3",
        "colab": {
          "base_uri": "https://localhost:8080/",
          "height": 35
        }
      },
      "execution_count": 18,
      "outputs": [
        {
          "output_type": "execute_result",
          "data": {
            "text/plain": [
              "'/usr/local/lib/python3.10/dist-packages/chromedriver_autoinstaller/131/chromedriver'"
            ],
            "application/vnd.google.colaboratory.intrinsic+json": {
              "type": "string"
            }
          },
          "metadata": {},
          "execution_count": 18
        }
      ]
    },
    {
      "cell_type": "code",
      "source": [
        "driver = webdriver.Chrome(options=chrome_options)"
      ],
      "metadata": {
        "id": "v1drfnm3Vdse"
      },
      "execution_count": 19,
      "outputs": []
    },
    {
      "cell_type": "code",
      "execution_count": 20,
      "metadata": {
        "colab": {
          "base_uri": "https://localhost:8080/"
        },
        "id": "wo5tuO1yUT3U",
        "outputId": "8eb471b1-0f22-42b1-b410-341987069678"
      },
      "outputs": [
        {
          "output_type": "stream",
          "name": "stderr",
          "text": [
            "\r  0%|          | 0/135 [00:00<?, ?it/s]"
          ]
        },
        {
          "output_type": "stream",
          "name": "stdout",
          "text": [
            "Processing page 1...\n"
          ]
        },
        {
          "output_type": "stream",
          "name": "stderr",
          "text": [
            "\r  1%|          | 1/135 [00:22<50:20, 22.54s/it]"
          ]
        },
        {
          "output_type": "stream",
          "name": "stdout",
          "text": [
            "Processing page 2...\n"
          ]
        },
        {
          "output_type": "stream",
          "name": "stderr",
          "text": [
            "\r  1%|▏         | 2/135 [00:50<56:40, 25.57s/it]"
          ]
        },
        {
          "output_type": "stream",
          "name": "stdout",
          "text": [
            "Processing page 3...\n"
          ]
        },
        {
          "output_type": "stream",
          "name": "stderr",
          "text": [
            "\r  2%|▏         | 3/135 [01:21<1:02:08, 28.25s/it]"
          ]
        },
        {
          "output_type": "stream",
          "name": "stdout",
          "text": [
            "Processing page 4...\n"
          ]
        },
        {
          "output_type": "stream",
          "name": "stderr",
          "text": [
            "\r  3%|▎         | 4/135 [01:49<1:01:19, 28.09s/it]"
          ]
        },
        {
          "output_type": "stream",
          "name": "stdout",
          "text": [
            "Processing page 5...\n"
          ]
        },
        {
          "output_type": "stream",
          "name": "stderr",
          "text": [
            "\r  4%|▎         | 5/135 [02:17<1:00:28, 27.91s/it]"
          ]
        },
        {
          "output_type": "stream",
          "name": "stdout",
          "text": [
            "Processing page 6...\n"
          ]
        },
        {
          "output_type": "stream",
          "name": "stderr",
          "text": [
            "\r  4%|▍         | 6/135 [02:44<59:58, 27.89s/it]  "
          ]
        },
        {
          "output_type": "stream",
          "name": "stdout",
          "text": [
            "Processing page 7...\n"
          ]
        },
        {
          "output_type": "stream",
          "name": "stderr",
          "text": [
            "\r  5%|▌         | 7/135 [03:12<59:09, 27.73s/it]"
          ]
        },
        {
          "output_type": "stream",
          "name": "stdout",
          "text": [
            "Processing page 8...\n"
          ]
        },
        {
          "output_type": "stream",
          "name": "stderr",
          "text": [
            "\r  6%|▌         | 8/135 [03:40<58:39, 27.71s/it]"
          ]
        },
        {
          "output_type": "stream",
          "name": "stdout",
          "text": [
            "Processing page 9...\n"
          ]
        },
        {
          "output_type": "stream",
          "name": "stderr",
          "text": [
            "\r  7%|▋         | 9/135 [04:07<57:57, 27.60s/it]"
          ]
        },
        {
          "output_type": "stream",
          "name": "stdout",
          "text": [
            "Processing page 10...\n"
          ]
        },
        {
          "output_type": "stream",
          "name": "stderr",
          "text": [
            "\r  7%|▋         | 10/135 [04:34<57:23, 27.55s/it]"
          ]
        },
        {
          "output_type": "stream",
          "name": "stdout",
          "text": [
            "Processing page 11...\n"
          ]
        },
        {
          "output_type": "stream",
          "name": "stderr",
          "text": [
            "\r  8%|▊         | 11/135 [05:02<56:55, 27.54s/it]"
          ]
        },
        {
          "output_type": "stream",
          "name": "stdout",
          "text": [
            "Processing page 12...\n"
          ]
        },
        {
          "output_type": "stream",
          "name": "stderr",
          "text": [
            "\r  9%|▉         | 12/135 [05:29<56:24, 27.52s/it]"
          ]
        },
        {
          "output_type": "stream",
          "name": "stdout",
          "text": [
            "Processing page 13...\n"
          ]
        },
        {
          "output_type": "stream",
          "name": "stderr",
          "text": [
            "\r 10%|▉         | 13/135 [05:57<55:57, 27.52s/it]"
          ]
        },
        {
          "output_type": "stream",
          "name": "stdout",
          "text": [
            "Processing page 14...\n"
          ]
        },
        {
          "output_type": "stream",
          "name": "stderr",
          "text": [
            "\r 10%|█         | 14/135 [06:24<55:30, 27.53s/it]"
          ]
        },
        {
          "output_type": "stream",
          "name": "stdout",
          "text": [
            "Processing page 15...\n"
          ]
        },
        {
          "output_type": "stream",
          "name": "stderr",
          "text": [
            "\r 11%|█         | 15/135 [06:52<55:15, 27.63s/it]"
          ]
        },
        {
          "output_type": "stream",
          "name": "stdout",
          "text": [
            "Processing page 16...\n"
          ]
        },
        {
          "output_type": "stream",
          "name": "stderr",
          "text": [
            "\r 12%|█▏        | 16/135 [07:20<54:44, 27.60s/it]"
          ]
        },
        {
          "output_type": "stream",
          "name": "stdout",
          "text": [
            "Processing page 17...\n"
          ]
        },
        {
          "output_type": "stream",
          "name": "stderr",
          "text": [
            "\r 13%|█▎        | 17/135 [07:47<54:16, 27.60s/it]"
          ]
        },
        {
          "output_type": "stream",
          "name": "stdout",
          "text": [
            "Processing page 18...\n"
          ]
        },
        {
          "output_type": "stream",
          "name": "stderr",
          "text": [
            "\r 13%|█▎        | 18/135 [08:15<53:54, 27.64s/it]"
          ]
        },
        {
          "output_type": "stream",
          "name": "stdout",
          "text": [
            "Processing page 19...\n"
          ]
        },
        {
          "output_type": "stream",
          "name": "stderr",
          "text": [
            "\r 14%|█▍        | 19/135 [08:43<53:19, 27.58s/it]"
          ]
        },
        {
          "output_type": "stream",
          "name": "stdout",
          "text": [
            "Processing page 20...\n"
          ]
        },
        {
          "output_type": "stream",
          "name": "stderr",
          "text": [
            "\r 15%|█▍        | 20/135 [09:10<52:55, 27.62s/it]"
          ]
        },
        {
          "output_type": "stream",
          "name": "stdout",
          "text": [
            "Processing page 21...\n"
          ]
        },
        {
          "output_type": "stream",
          "name": "stderr",
          "text": [
            "\r 16%|█▌        | 21/135 [09:38<52:29, 27.63s/it]"
          ]
        },
        {
          "output_type": "stream",
          "name": "stdout",
          "text": [
            "Processing page 22...\n"
          ]
        },
        {
          "output_type": "stream",
          "name": "stderr",
          "text": [
            "\r 16%|█▋        | 22/135 [10:06<52:01, 27.62s/it]"
          ]
        },
        {
          "output_type": "stream",
          "name": "stdout",
          "text": [
            "Processing page 23...\n"
          ]
        },
        {
          "output_type": "stream",
          "name": "stderr",
          "text": [
            "\r 17%|█▋        | 23/135 [10:33<51:41, 27.69s/it]"
          ]
        },
        {
          "output_type": "stream",
          "name": "stdout",
          "text": [
            "Processing page 24...\n"
          ]
        },
        {
          "output_type": "stream",
          "name": "stderr",
          "text": [
            "\r 18%|█▊        | 24/135 [11:01<51:08, 27.64s/it]"
          ]
        },
        {
          "output_type": "stream",
          "name": "stdout",
          "text": [
            "Processing page 25...\n"
          ]
        },
        {
          "output_type": "stream",
          "name": "stderr",
          "text": [
            "\r 19%|█▊        | 25/135 [11:28<50:36, 27.61s/it]"
          ]
        },
        {
          "output_type": "stream",
          "name": "stdout",
          "text": [
            "Processing page 26...\n"
          ]
        },
        {
          "output_type": "stream",
          "name": "stderr",
          "text": [
            "\r 19%|█▉        | 26/135 [11:56<50:02, 27.55s/it]"
          ]
        },
        {
          "output_type": "stream",
          "name": "stdout",
          "text": [
            "Processing page 27...\n"
          ]
        },
        {
          "output_type": "stream",
          "name": "stderr",
          "text": [
            "\r 20%|██        | 27/135 [12:23<49:29, 27.50s/it]"
          ]
        },
        {
          "output_type": "stream",
          "name": "stdout",
          "text": [
            "Processing page 28...\n"
          ]
        },
        {
          "output_type": "stream",
          "name": "stderr",
          "text": [
            "\r 21%|██        | 28/135 [12:51<49:05, 27.52s/it]"
          ]
        },
        {
          "output_type": "stream",
          "name": "stdout",
          "text": [
            "Processing page 29...\n"
          ]
        },
        {
          "output_type": "stream",
          "name": "stderr",
          "text": [
            "\r 21%|██▏       | 29/135 [13:18<48:38, 27.53s/it]"
          ]
        },
        {
          "output_type": "stream",
          "name": "stdout",
          "text": [
            "Processing page 30...\n"
          ]
        },
        {
          "output_type": "stream",
          "name": "stderr",
          "text": [
            "\r 22%|██▏       | 30/135 [13:46<48:08, 27.51s/it]"
          ]
        },
        {
          "output_type": "stream",
          "name": "stdout",
          "text": [
            "Processing page 31...\n"
          ]
        },
        {
          "output_type": "stream",
          "name": "stderr",
          "text": [
            "\r 23%|██▎       | 31/135 [14:13<47:39, 27.49s/it]"
          ]
        },
        {
          "output_type": "stream",
          "name": "stdout",
          "text": [
            "Processing page 32...\n"
          ]
        },
        {
          "output_type": "stream",
          "name": "stderr",
          "text": [
            "\r 24%|██▎       | 32/135 [14:41<47:16, 27.53s/it]"
          ]
        },
        {
          "output_type": "stream",
          "name": "stdout",
          "text": [
            "Processing page 33...\n"
          ]
        },
        {
          "output_type": "stream",
          "name": "stderr",
          "text": [
            "\r 24%|██▍       | 33/135 [15:09<47:01, 27.66s/it]"
          ]
        },
        {
          "output_type": "stream",
          "name": "stdout",
          "text": [
            "Processing page 34...\n"
          ]
        },
        {
          "output_type": "stream",
          "name": "stderr",
          "text": [
            "\r 25%|██▌       | 34/135 [15:37<46:36, 27.69s/it]"
          ]
        },
        {
          "output_type": "stream",
          "name": "stdout",
          "text": [
            "Processing page 35...\n"
          ]
        },
        {
          "output_type": "stream",
          "name": "stderr",
          "text": [
            "\r 26%|██▌       | 35/135 [16:04<46:11, 27.71s/it]"
          ]
        },
        {
          "output_type": "stream",
          "name": "stdout",
          "text": [
            "Processing page 36...\n"
          ]
        },
        {
          "output_type": "stream",
          "name": "stderr",
          "text": [
            "\r 27%|██▋       | 36/135 [16:32<45:50, 27.79s/it]"
          ]
        },
        {
          "output_type": "stream",
          "name": "stdout",
          "text": [
            "Processing page 37...\n"
          ]
        },
        {
          "output_type": "stream",
          "name": "stderr",
          "text": [
            "\r 27%|██▋       | 37/135 [17:01<45:46, 28.02s/it]"
          ]
        },
        {
          "output_type": "stream",
          "name": "stdout",
          "text": [
            "Processing page 38...\n"
          ]
        },
        {
          "output_type": "stream",
          "name": "stderr",
          "text": [
            "\r 28%|██▊       | 38/135 [17:29<45:31, 28.16s/it]"
          ]
        },
        {
          "output_type": "stream",
          "name": "stdout",
          "text": [
            "Processing page 39...\n"
          ]
        },
        {
          "output_type": "stream",
          "name": "stderr",
          "text": [
            "\r 29%|██▉       | 39/135 [17:57<44:56, 28.09s/it]"
          ]
        },
        {
          "output_type": "stream",
          "name": "stdout",
          "text": [
            "Processing page 40...\n"
          ]
        },
        {
          "output_type": "stream",
          "name": "stderr",
          "text": [
            "\r 30%|██▉       | 40/135 [18:26<44:35, 28.16s/it]"
          ]
        },
        {
          "output_type": "stream",
          "name": "stdout",
          "text": [
            "Processing page 41...\n"
          ]
        },
        {
          "output_type": "stream",
          "name": "stderr",
          "text": [
            "\r 30%|███       | 41/135 [18:54<44:17, 28.27s/it]"
          ]
        },
        {
          "output_type": "stream",
          "name": "stdout",
          "text": [
            "Processing page 42...\n"
          ]
        },
        {
          "output_type": "stream",
          "name": "stderr",
          "text": [
            "\r 31%|███       | 42/135 [19:22<43:41, 28.19s/it]"
          ]
        },
        {
          "output_type": "stream",
          "name": "stdout",
          "text": [
            "Processing page 43...\n"
          ]
        },
        {
          "output_type": "stream",
          "name": "stderr",
          "text": [
            "\r 32%|███▏      | 43/135 [19:50<43:00, 28.05s/it]"
          ]
        },
        {
          "output_type": "stream",
          "name": "stdout",
          "text": [
            "Processing page 44...\n"
          ]
        },
        {
          "output_type": "stream",
          "name": "stderr",
          "text": [
            "\r 33%|███▎      | 44/135 [20:17<42:19, 27.91s/it]"
          ]
        },
        {
          "output_type": "stream",
          "name": "stdout",
          "text": [
            "Processing page 45...\n"
          ]
        },
        {
          "output_type": "stream",
          "name": "stderr",
          "text": [
            "\r 33%|███▎      | 45/135 [20:45<41:44, 27.83s/it]"
          ]
        },
        {
          "output_type": "stream",
          "name": "stdout",
          "text": [
            "Processing page 46...\n"
          ]
        },
        {
          "output_type": "stream",
          "name": "stderr",
          "text": [
            "\r 34%|███▍      | 46/135 [21:13<41:10, 27.76s/it]"
          ]
        },
        {
          "output_type": "stream",
          "name": "stdout",
          "text": [
            "Processing page 47...\n"
          ]
        },
        {
          "output_type": "stream",
          "name": "stderr",
          "text": [
            "\r 35%|███▍      | 47/135 [21:40<40:42, 27.75s/it]"
          ]
        },
        {
          "output_type": "stream",
          "name": "stdout",
          "text": [
            "Processing page 48...\n"
          ]
        },
        {
          "output_type": "stream",
          "name": "stderr",
          "text": [
            "\r 36%|███▌      | 48/135 [22:08<40:09, 27.70s/it]"
          ]
        },
        {
          "output_type": "stream",
          "name": "stdout",
          "text": [
            "Processing page 49...\n"
          ]
        },
        {
          "output_type": "stream",
          "name": "stderr",
          "text": [
            "\r 36%|███▋      | 49/135 [22:36<39:43, 27.71s/it]"
          ]
        },
        {
          "output_type": "stream",
          "name": "stdout",
          "text": [
            "Processing page 50...\n"
          ]
        },
        {
          "output_type": "stream",
          "name": "stderr",
          "text": [
            "\r 37%|███▋      | 50/135 [23:03<39:14, 27.70s/it]"
          ]
        },
        {
          "output_type": "stream",
          "name": "stdout",
          "text": [
            "Processing page 51...\n"
          ]
        },
        {
          "output_type": "stream",
          "name": "stderr",
          "text": [
            "\r 38%|███▊      | 51/135 [23:31<38:48, 27.72s/it]"
          ]
        },
        {
          "output_type": "stream",
          "name": "stdout",
          "text": [
            "Processing page 52...\n"
          ]
        },
        {
          "output_type": "stream",
          "name": "stderr",
          "text": [
            "\r 39%|███▊      | 52/135 [23:59<38:19, 27.71s/it]"
          ]
        },
        {
          "output_type": "stream",
          "name": "stdout",
          "text": [
            "Processing page 53...\n"
          ]
        },
        {
          "output_type": "stream",
          "name": "stderr",
          "text": [
            "\r 39%|███▉      | 53/135 [24:26<37:44, 27.62s/it]"
          ]
        },
        {
          "output_type": "stream",
          "name": "stdout",
          "text": [
            "Processing page 54...\n"
          ]
        },
        {
          "output_type": "stream",
          "name": "stderr",
          "text": [
            "\r 40%|████      | 54/135 [24:54<37:17, 27.63s/it]"
          ]
        },
        {
          "output_type": "stream",
          "name": "stdout",
          "text": [
            "Processing page 55...\n"
          ]
        },
        {
          "output_type": "stream",
          "name": "stderr",
          "text": [
            "\r 41%|████      | 55/135 [25:22<36:48, 27.61s/it]"
          ]
        },
        {
          "output_type": "stream",
          "name": "stdout",
          "text": [
            "Processing page 56...\n"
          ]
        },
        {
          "output_type": "stream",
          "name": "stderr",
          "text": [
            "\r 41%|████▏     | 56/135 [25:49<36:23, 27.64s/it]"
          ]
        },
        {
          "output_type": "stream",
          "name": "stdout",
          "text": [
            "Processing page 57...\n"
          ]
        },
        {
          "output_type": "stream",
          "name": "stderr",
          "text": [
            "\r 42%|████▏     | 57/135 [26:17<35:53, 27.61s/it]"
          ]
        },
        {
          "output_type": "stream",
          "name": "stdout",
          "text": [
            "Processing page 58...\n"
          ]
        },
        {
          "output_type": "stream",
          "name": "stderr",
          "text": [
            "\r 43%|████▎     | 58/135 [26:44<35:23, 27.57s/it]"
          ]
        },
        {
          "output_type": "stream",
          "name": "stdout",
          "text": [
            "Processing page 59...\n"
          ]
        },
        {
          "output_type": "stream",
          "name": "stderr",
          "text": [
            "\r 44%|████▎     | 59/135 [27:12<34:56, 27.58s/it]"
          ]
        },
        {
          "output_type": "stream",
          "name": "stdout",
          "text": [
            "Processing page 60...\n"
          ]
        },
        {
          "output_type": "stream",
          "name": "stderr",
          "text": [
            "\r 44%|████▍     | 60/135 [27:40<34:32, 27.63s/it]"
          ]
        },
        {
          "output_type": "stream",
          "name": "stdout",
          "text": [
            "Processing page 61...\n"
          ]
        },
        {
          "output_type": "stream",
          "name": "stderr",
          "text": [
            "\r 45%|████▌     | 61/135 [28:07<34:01, 27.59s/it]"
          ]
        },
        {
          "output_type": "stream",
          "name": "stdout",
          "text": [
            "Processing page 62...\n"
          ]
        },
        {
          "output_type": "stream",
          "name": "stderr",
          "text": [
            "\r 46%|████▌     | 62/135 [28:35<33:31, 27.56s/it]"
          ]
        },
        {
          "output_type": "stream",
          "name": "stdout",
          "text": [
            "Processing page 63...\n"
          ]
        },
        {
          "output_type": "stream",
          "name": "stderr",
          "text": [
            "\r 47%|████▋     | 63/135 [29:02<33:03, 27.55s/it]"
          ]
        },
        {
          "output_type": "stream",
          "name": "stdout",
          "text": [
            "Processing page 64...\n"
          ]
        },
        {
          "output_type": "stream",
          "name": "stderr",
          "text": [
            "\r 47%|████▋     | 64/135 [29:30<32:34, 27.53s/it]"
          ]
        },
        {
          "output_type": "stream",
          "name": "stdout",
          "text": [
            "Processing page 65...\n"
          ]
        },
        {
          "output_type": "stream",
          "name": "stderr",
          "text": [
            "\r 48%|████▊     | 65/135 [29:57<32:06, 27.52s/it]"
          ]
        },
        {
          "output_type": "stream",
          "name": "stdout",
          "text": [
            "Processing page 66...\n"
          ]
        },
        {
          "output_type": "stream",
          "name": "stderr",
          "text": [
            "\r 49%|████▉     | 66/135 [30:25<31:40, 27.55s/it]"
          ]
        },
        {
          "output_type": "stream",
          "name": "stdout",
          "text": [
            "Processing page 67...\n"
          ]
        },
        {
          "output_type": "stream",
          "name": "stderr",
          "text": [
            "\r 50%|████▉     | 67/135 [30:52<31:09, 27.49s/it]"
          ]
        },
        {
          "output_type": "stream",
          "name": "stdout",
          "text": [
            "Processing page 68...\n"
          ]
        },
        {
          "output_type": "stream",
          "name": "stderr",
          "text": [
            "\r 50%|█████     | 68/135 [31:20<30:42, 27.50s/it]"
          ]
        },
        {
          "output_type": "stream",
          "name": "stdout",
          "text": [
            "Processing page 69...\n"
          ]
        },
        {
          "output_type": "stream",
          "name": "stderr",
          "text": [
            "\r 51%|█████     | 69/135 [31:47<30:20, 27.58s/it]"
          ]
        },
        {
          "output_type": "stream",
          "name": "stdout",
          "text": [
            "Processing page 70...\n"
          ]
        },
        {
          "output_type": "stream",
          "name": "stderr",
          "text": [
            "\r 52%|█████▏    | 70/135 [32:15<29:51, 27.57s/it]"
          ]
        },
        {
          "output_type": "stream",
          "name": "stdout",
          "text": [
            "Processing page 71...\n"
          ]
        },
        {
          "output_type": "stream",
          "name": "stderr",
          "text": [
            "\r 53%|█████▎    | 71/135 [32:42<29:23, 27.55s/it]"
          ]
        },
        {
          "output_type": "stream",
          "name": "stdout",
          "text": [
            "Processing page 72...\n"
          ]
        },
        {
          "output_type": "stream",
          "name": "stderr",
          "text": [
            "\r 53%|█████▎    | 72/135 [33:10<28:57, 27.58s/it]"
          ]
        },
        {
          "output_type": "stream",
          "name": "stdout",
          "text": [
            "Processing page 73...\n"
          ]
        },
        {
          "output_type": "stream",
          "name": "stderr",
          "text": [
            "\r 54%|█████▍    | 73/135 [33:38<28:32, 27.62s/it]"
          ]
        },
        {
          "output_type": "stream",
          "name": "stdout",
          "text": [
            "Processing page 74...\n"
          ]
        },
        {
          "output_type": "stream",
          "name": "stderr",
          "text": [
            "\r 55%|█████▍    | 74/135 [34:05<28:07, 27.66s/it]"
          ]
        },
        {
          "output_type": "stream",
          "name": "stdout",
          "text": [
            "Processing page 75...\n"
          ]
        },
        {
          "output_type": "stream",
          "name": "stderr",
          "text": [
            "\r 56%|█████▌    | 75/135 [34:33<27:38, 27.64s/it]"
          ]
        },
        {
          "output_type": "stream",
          "name": "stdout",
          "text": [
            "Processing page 76...\n"
          ]
        },
        {
          "output_type": "stream",
          "name": "stderr",
          "text": [
            "\r 56%|█████▋    | 76/135 [35:01<27:13, 27.68s/it]"
          ]
        },
        {
          "output_type": "stream",
          "name": "stdout",
          "text": [
            "Processing page 77...\n"
          ]
        },
        {
          "output_type": "stream",
          "name": "stderr",
          "text": [
            "\r 57%|█████▋    | 77/135 [35:29<26:45, 27.68s/it]"
          ]
        },
        {
          "output_type": "stream",
          "name": "stdout",
          "text": [
            "Processing page 78...\n"
          ]
        },
        {
          "output_type": "stream",
          "name": "stderr",
          "text": [
            "\r 58%|█████▊    | 78/135 [35:56<26:16, 27.67s/it]"
          ]
        },
        {
          "output_type": "stream",
          "name": "stdout",
          "text": [
            "Processing page 79...\n"
          ]
        },
        {
          "output_type": "stream",
          "name": "stderr",
          "text": [
            "\r 59%|█████▊    | 79/135 [36:24<25:45, 27.60s/it]"
          ]
        },
        {
          "output_type": "stream",
          "name": "stdout",
          "text": [
            "Processing page 80...\n"
          ]
        },
        {
          "output_type": "stream",
          "name": "stderr",
          "text": [
            "\r 59%|█████▉    | 80/135 [36:51<25:18, 27.60s/it]"
          ]
        },
        {
          "output_type": "stream",
          "name": "stdout",
          "text": [
            "Processing page 81...\n"
          ]
        },
        {
          "output_type": "stream",
          "name": "stderr",
          "text": [
            "\r 60%|██████    | 81/135 [37:19<24:52, 27.65s/it]"
          ]
        },
        {
          "output_type": "stream",
          "name": "stdout",
          "text": [
            "Processing page 82...\n"
          ]
        },
        {
          "output_type": "stream",
          "name": "stderr",
          "text": [
            "\r 61%|██████    | 82/135 [37:47<24:25, 27.65s/it]"
          ]
        },
        {
          "output_type": "stream",
          "name": "stdout",
          "text": [
            "Processing page 83...\n"
          ]
        },
        {
          "output_type": "stream",
          "name": "stderr",
          "text": [
            "\r 61%|██████▏   | 83/135 [38:14<23:55, 27.60s/it]"
          ]
        },
        {
          "output_type": "stream",
          "name": "stdout",
          "text": [
            "Processing page 84...\n"
          ]
        },
        {
          "output_type": "stream",
          "name": "stderr",
          "text": [
            "\r 62%|██████▏   | 84/135 [38:42<23:25, 27.56s/it]"
          ]
        },
        {
          "output_type": "stream",
          "name": "stdout",
          "text": [
            "Processing page 85...\n"
          ]
        },
        {
          "output_type": "stream",
          "name": "stderr",
          "text": [
            "\r 63%|██████▎   | 85/135 [39:09<22:57, 27.55s/it]"
          ]
        },
        {
          "output_type": "stream",
          "name": "stdout",
          "text": [
            "Processing page 86...\n"
          ]
        },
        {
          "output_type": "stream",
          "name": "stderr",
          "text": [
            "\r 64%|██████▎   | 86/135 [39:37<22:31, 27.58s/it]"
          ]
        },
        {
          "output_type": "stream",
          "name": "stdout",
          "text": [
            "Processing page 87...\n"
          ]
        },
        {
          "output_type": "stream",
          "name": "stderr",
          "text": [
            "\r 64%|██████▎   | 86/135 [39:59<22:46, 27.90s/it]"
          ]
        },
        {
          "output_type": "stream",
          "name": "stdout",
          "text": [
            "Could not navigate to page 87: Message: no such element: Unable to locate element: {\"method\":\"link text\",\"selector\":\"제70류 유리와 유리제품 주: 1. 이 류에서 다음 각 목의 것은 제외한다. 가. 제3207호의 물품[예: 법랑ㆍ유약ㆍ유리프리트(frit)와 가루 모양ㆍ알갱이 모양ㆍ플레이크(flake) 모양인 그 밖의 유리] 나. 제71류의 물품(예:  모조 신변장식용품) 다. 제8544호의 광섬유 케이블, 애자(제8546호...\"}\n",
            "  (Session info: chrome=131.0.6778.87); For documentation on this error, please visit: https://www.selenium.dev/documentation/webdriver/troubleshooting/errors#no-such-element-exception\n",
            "Stacktrace:\n",
            "#0 0x5be26770c34a <unknown>\n",
            "#1 0x5be2672226e0 <unknown>\n",
            "#2 0x5be2672713e6 <unknown>\n",
            "#3 0x5be267271681 <unknown>\n",
            "#4 0x5be2672b6b04 <unknown>\n",
            "#5 0x5be26729548d <unknown>\n",
            "#6 0x5be2672b3ed7 <unknown>\n",
            "#7 0x5be267295203 <unknown>\n",
            "#8 0x5be267263cc0 <unknown>\n",
            "#9 0x5be267264c9e <unknown>\n",
            "#10 0x5be2676d9d3b <unknown>\n",
            "#11 0x5be2676ddcc2 <unknown>\n",
            "#12 0x5be2676c6b6c <unknown>\n",
            "#13 0x5be2676de837 <unknown>\n",
            "#14 0x5be2676ac10f <unknown>\n",
            "#15 0x5be2676fb5a8 <unknown>\n",
            "#16 0x5be2676fb770 <unknown>\n",
            "#17 0x5be26770b1c6 <unknown>\n",
            "#18 0x798472a8dac3 <unknown>\n",
            "\n",
            "error page : 87 page\n"
          ]
        },
        {
          "output_type": "stream",
          "name": "stderr",
          "text": [
            "\n"
          ]
        }
      ],
      "source": [
        "\n",
        "# 크롬 드라이버 생성\n",
        "# driver = webdriver.Chrome(service=ChromeService(ChromeDriverManager().install()))\n",
        "\n",
        "sys.path.insert(0,chrome_path)\n",
        "chrome_options = webdriver.ChromeOptions()\n",
        "chrome_options.add_argument('--headless') # ensure GUI is off\n",
        "chrome_options.add_argument('--no-sandbox')\n",
        "chrome_options.add_argument('--disable-dev-shm-usage')  # set path to chromedriver as per your configuration\n",
        "chrome_options.add_argument('lang=ko_KR') # 한국어\n",
        "\n",
        "chromedriver_autoinstaller.install()  # set the target URL\n",
        "\n",
        "driver = webdriver.Chrome(options=chrome_options)\n",
        "\n",
        "# 페이지 열기\n",
        "url = \"https://unipass.customs.go.kr/clip/index.do\"\n",
        "driver.get(url)\n",
        "\n",
        "# JavaScript가 실행될 시간을 기다리기\n",
        "driver.implicitly_wait(10)  # 최대 10초 대기\n",
        "\n",
        "# 페이지의 HTML 가져오기\n",
        "# soup = BeautifulSoup(driver.page_source, 'html.parser')\n",
        "\n",
        "# 세계HS 창을 찾아 click_box 변수에 저장 (By.CLASS_NAME 방식)\n",
        "click_box = driver.find_element(By.CLASS_NAME,\"M_ULS0200000000\")\n",
        "click_box.click()\n",
        "\n",
        "# HS해설서 창을 찾아 click_box 변수에 저장 (By.CLASS_NAME 방식)\n",
        "click_box = driver.find_element(By.XPATH, '//*[@id=\"LEFTMENU_LNK_UI-ULS-0202-001Q\"]/span')\n",
        "click_box.click()\n",
        "\n",
        "# 조회 창을 찾아 click_box 변수에 저장 (By.XPATH 방식)\n",
        "click_box = driver.find_element(By.XPATH, '//*[@id=\"searchVo\"]/div[2]/footer/button/span')\n",
        "driver.execute_script(\"arguments[0].click();\", click_box)\n",
        "\n",
        "\n",
        "# Wait for the table to load\n",
        "time.sleep(5)  # Adjust the wait time as needed\n",
        "\n",
        "# Locate the table\n",
        "table = driver.find_element(By.XPATH, '//*[@id=\"ULS0202001Q_T1_table1\"]/tbody')\n",
        "\n",
        "# Parse the table HTML using BeautifulSoup\n",
        "soup = BeautifulSoup(table.get_attribute(\"outerHTML\"), 'html.parser')\n",
        "\n",
        "# Extract table rows\n",
        "rows = soup.find_all('tr')\n",
        "\n",
        "# Initialize an empty DataFrame\n",
        "data = pd.DataFrame(columns=[\"구분\", \"년도\", \"단위\", \"HS분류\", \"내용\", \"Left Area\", \"Right Area\"])\n",
        "\n",
        "# # Iterate through the rows and extract data\n",
        "# for row in rows:\n",
        "#     cols = row.find_all('td')\n",
        "#     cols = [col.text.strip() for col in cols]  # Extract text and clean up whitespace\n",
        "#     if cols:  # Check if the row has data\n",
        "#         # Click on the `dtlInfo` link\n",
        "#         dtl_link = row.find('a', class_='dtlInfo')\n",
        "#         if dtl_link:\n",
        "#             dtl_element = driver.find_element(By.LINK_TEXT, dtl_link.text)\n",
        "#             dtl_element.click()\n",
        "#             time.sleep(2)  # Wait for the leftArea and rightArea to load\n",
        "\n",
        "#             # Extract text from leftArea\n",
        "#             left_area = driver.find_element(By.ID, 'divLft_tab4')\n",
        "#             left_area_text = left_area.text.strip()\n",
        "\n",
        "#             # Extract text from rightArea\n",
        "#             right_area = driver.find_element(By.ID, 'divRght_tab4')\n",
        "#             right_area_text = right_area.text.strip()\n",
        "\n",
        "#             # Go back to the main page to continue scraping\n",
        "#             # driver.back()\n",
        "#             time.sleep(2)  # Wait for the page to load\n",
        "\n",
        "#             # Add data to the DataFrame\n",
        "#             data.loc[len(data)] = cols + [left_area_text, right_area_text]\n",
        "\n",
        "# Loop through all 135 pages\n",
        "for page in tqdm(range(1, 136)):\n",
        "\n",
        "    print(f\"Processing page {page}...\")\n",
        "\n",
        "    if page != 1:\n",
        "      current_page = driver.find_element(By.XPATH, f'//div[@class=\"paging\"]//a[@href=\"#{page}\"]')\n",
        "      current_page.click()\n",
        "      time.sleep(5)  # Wait for the page to load\n",
        "\n",
        "    try:\n",
        "\n",
        "      # Locate the table\n",
        "      table = driver.find_element(By.XPATH, '//*[@id=\"ULS0202001Q_T1_table1\"]/tbody')\n",
        "\n",
        "      # Parse the table HTML using BeautifulSoup\n",
        "      soup = BeautifulSoup(table.get_attribute(\"outerHTML\"), 'html.parser')\n",
        "\n",
        "      # Extract table rows\n",
        "      rows = soup.find_all('tr')\n",
        "\n",
        "      # Iterate through the rows and extract data\n",
        "      for row in rows:\n",
        "          cols = row.find_all('td')\n",
        "          cols = [col.text.strip() for col in cols]  # Extract text and clean up whitespace\n",
        "          if cols:  # Check if the row has data\n",
        "              # Click on the `dtlInfo` link\n",
        "              dtl_link = row.find('a', class_='dtlInfo')\n",
        "              if dtl_link:\n",
        "                  dtl_element = driver.find_element(By.LINK_TEXT, dtl_link.text)\n",
        "                  dtl_element.click()\n",
        "                  time.sleep(1)  # Wait for the leftArea and rightArea to load\n",
        "\n",
        "                  # Extract text from leftArea\n",
        "                  left_area = driver.find_element(By.ID, 'divLft_tab4')\n",
        "                  left_area_text = left_area.text.strip()\n",
        "\n",
        "                  # Extract text from rightArea\n",
        "                  right_area = driver.find_element(By.ID, 'divRght_tab4')\n",
        "                  right_area_text = right_area.text.strip()\n",
        "\n",
        "                  # Go back to the main page to continue scraping\n",
        "                  time.sleep(1)  # Wait for the page to load\n",
        "\n",
        "                  # Add data to the DataFrame\n",
        "                  data.loc[len(data)] = cols + [left_area_text, right_area_text]\n",
        "\n",
        "    except Exception as e:\n",
        "        print(f\"Could not navigate to page {page}: {e}\")\n",
        "        error_page=page\n",
        "        print(f'error page : {error_page} page')\n",
        "        break\n",
        "\n",
        "# Display the DataFrame\n",
        "\n",
        "# Save the data to a CSV file\n",
        "data.to_csv('HSdescription_data.csv', index=False, encoding='utf-8-sig')"
      ]
    },
    {
      "cell_type": "code",
      "source": [
        "data.tail()"
      ],
      "metadata": {
        "id": "6TeknsgG9_ix",
        "outputId": "d3e9eb27-e12a-4f2a-c8dc-de1a20550e42",
        "colab": {
          "base_uri": "https://localhost:8080/",
          "height": 206
        }
      },
      "execution_count": 24,
      "outputs": [
        {
          "output_type": "execute_result",
          "data": {
            "text/plain": [
              "      구분    년도 단위  HS분류                                                 내용  \\\n",
              "858  WCO  2022  호  6910  69.10 - 도자제의 설거지통ㆍ세면대ㆍ세면대용 받침ㆍ목욕통ㆍ비데ㆍ수세식 변기통ㆍ수...   \n",
              "859  WCO  2022  호  6911  69.11 - 자기제의 식탁용품ㆍ주방용품ㆍ그 밖의 가정용품ㆍ화장용품 6911.10 ...   \n",
              "860  WCO  2022  호  6912  69.12 - 도자제의 식탁용품ㆍ주방용품ㆍ그 밖의 가정용품ㆍ화장용품(자기제의 것은 ...   \n",
              "861  WCO  2022  호  6913  69.13 - 도자제의 작은 조각상과 그 밖의 장식용 제품 6913.10 - 자기제...   \n",
              "862  WCO  2022  호  6914  69.14 - 도자제의 그 밖의 제품 6914.10 - 자기제의 것 6914.90 ...   \n",
              "\n",
              "                                             Left Area  \\\n",
              "858  69.10 - 도자제의 설거지통ㆍ세면대ㆍ세면대용 받침ㆍ목욕통ㆍ비데ㆍ수세식 변기통ㆍ수...   \n",
              "859  69.11 - 자기제의 식탁용품ㆍ주방용품ㆍ그 밖의 가정용품ㆍ화장용품\\n6911.10...   \n",
              "860  69.12 - 도자제의 식탁용품ㆍ주방용품ㆍ그 밖의 가정용품ㆍ화장용품(자기제의 것은 ...   \n",
              "861  69.13 - 도자제의 작은 조각상과 그 밖의 장식용 제품\\n6913.10 - 자기...   \n",
              "862  69.14 - 도자제의 그 밖의 제품\\n6914.10 - 자기제의 것\\n6914.9...   \n",
              "\n",
              "                                            Right Area  \n",
              "858  69.10 - Ceramic sinks, wash basins, wash basin...  \n",
              "859  69.11 - Tableware, kitchenware, other househol...  \n",
              "860  69.12 - Ceramic tableware, kitchenware, other ...  \n",
              "861  69.13 - Statuettes and other ornamental cerami...  \n",
              "862  69.14 - Other ceramic articles.\\n6914.10 - Of ...  "
            ],
            "text/html": [
              "\n",
              "  <div id=\"df-d9c110c0-dfbb-486f-9e13-cdb7814cf580\" class=\"colab-df-container\">\n",
              "    <div>\n",
              "<style scoped>\n",
              "    .dataframe tbody tr th:only-of-type {\n",
              "        vertical-align: middle;\n",
              "    }\n",
              "\n",
              "    .dataframe tbody tr th {\n",
              "        vertical-align: top;\n",
              "    }\n",
              "\n",
              "    .dataframe thead th {\n",
              "        text-align: right;\n",
              "    }\n",
              "</style>\n",
              "<table border=\"1\" class=\"dataframe\">\n",
              "  <thead>\n",
              "    <tr style=\"text-align: right;\">\n",
              "      <th></th>\n",
              "      <th>구분</th>\n",
              "      <th>년도</th>\n",
              "      <th>단위</th>\n",
              "      <th>HS분류</th>\n",
              "      <th>내용</th>\n",
              "      <th>Left Area</th>\n",
              "      <th>Right Area</th>\n",
              "    </tr>\n",
              "  </thead>\n",
              "  <tbody>\n",
              "    <tr>\n",
              "      <th>858</th>\n",
              "      <td>WCO</td>\n",
              "      <td>2022</td>\n",
              "      <td>호</td>\n",
              "      <td>6910</td>\n",
              "      <td>69.10 - 도자제의 설거지통ㆍ세면대ㆍ세면대용 받침ㆍ목욕통ㆍ비데ㆍ수세식 변기통ㆍ수...</td>\n",
              "      <td>69.10 - 도자제의 설거지통ㆍ세면대ㆍ세면대용 받침ㆍ목욕통ㆍ비데ㆍ수세식 변기통ㆍ수...</td>\n",
              "      <td>69.10 - Ceramic sinks, wash basins, wash basin...</td>\n",
              "    </tr>\n",
              "    <tr>\n",
              "      <th>859</th>\n",
              "      <td>WCO</td>\n",
              "      <td>2022</td>\n",
              "      <td>호</td>\n",
              "      <td>6911</td>\n",
              "      <td>69.11 - 자기제의 식탁용품ㆍ주방용품ㆍ그 밖의 가정용품ㆍ화장용품 6911.10 ...</td>\n",
              "      <td>69.11 - 자기제의 식탁용품ㆍ주방용품ㆍ그 밖의 가정용품ㆍ화장용품\\n6911.10...</td>\n",
              "      <td>69.11 - Tableware, kitchenware, other househol...</td>\n",
              "    </tr>\n",
              "    <tr>\n",
              "      <th>860</th>\n",
              "      <td>WCO</td>\n",
              "      <td>2022</td>\n",
              "      <td>호</td>\n",
              "      <td>6912</td>\n",
              "      <td>69.12 - 도자제의 식탁용품ㆍ주방용품ㆍ그 밖의 가정용품ㆍ화장용품(자기제의 것은 ...</td>\n",
              "      <td>69.12 - 도자제의 식탁용품ㆍ주방용품ㆍ그 밖의 가정용품ㆍ화장용품(자기제의 것은 ...</td>\n",
              "      <td>69.12 - Ceramic tableware, kitchenware, other ...</td>\n",
              "    </tr>\n",
              "    <tr>\n",
              "      <th>861</th>\n",
              "      <td>WCO</td>\n",
              "      <td>2022</td>\n",
              "      <td>호</td>\n",
              "      <td>6913</td>\n",
              "      <td>69.13 - 도자제의 작은 조각상과 그 밖의 장식용 제품 6913.10 - 자기제...</td>\n",
              "      <td>69.13 - 도자제의 작은 조각상과 그 밖의 장식용 제품\\n6913.10 - 자기...</td>\n",
              "      <td>69.13 - Statuettes and other ornamental cerami...</td>\n",
              "    </tr>\n",
              "    <tr>\n",
              "      <th>862</th>\n",
              "      <td>WCO</td>\n",
              "      <td>2022</td>\n",
              "      <td>호</td>\n",
              "      <td>6914</td>\n",
              "      <td>69.14 - 도자제의 그 밖의 제품 6914.10 - 자기제의 것 6914.90 ...</td>\n",
              "      <td>69.14 - 도자제의 그 밖의 제품\\n6914.10 - 자기제의 것\\n6914.9...</td>\n",
              "      <td>69.14 - Other ceramic articles.\\n6914.10 - Of ...</td>\n",
              "    </tr>\n",
              "  </tbody>\n",
              "</table>\n",
              "</div>\n",
              "    <div class=\"colab-df-buttons\">\n",
              "\n",
              "  <div class=\"colab-df-container\">\n",
              "    <button class=\"colab-df-convert\" onclick=\"convertToInteractive('df-d9c110c0-dfbb-486f-9e13-cdb7814cf580')\"\n",
              "            title=\"Convert this dataframe to an interactive table.\"\n",
              "            style=\"display:none;\">\n",
              "\n",
              "  <svg xmlns=\"http://www.w3.org/2000/svg\" height=\"24px\" viewBox=\"0 -960 960 960\">\n",
              "    <path d=\"M120-120v-720h720v720H120Zm60-500h600v-160H180v160Zm220 220h160v-160H400v160Zm0 220h160v-160H400v160ZM180-400h160v-160H180v160Zm440 0h160v-160H620v160ZM180-180h160v-160H180v160Zm440 0h160v-160H620v160Z\"/>\n",
              "  </svg>\n",
              "    </button>\n",
              "\n",
              "  <style>\n",
              "    .colab-df-container {\n",
              "      display:flex;\n",
              "      gap: 12px;\n",
              "    }\n",
              "\n",
              "    .colab-df-convert {\n",
              "      background-color: #E8F0FE;\n",
              "      border: none;\n",
              "      border-radius: 50%;\n",
              "      cursor: pointer;\n",
              "      display: none;\n",
              "      fill: #1967D2;\n",
              "      height: 32px;\n",
              "      padding: 0 0 0 0;\n",
              "      width: 32px;\n",
              "    }\n",
              "\n",
              "    .colab-df-convert:hover {\n",
              "      background-color: #E2EBFA;\n",
              "      box-shadow: 0px 1px 2px rgba(60, 64, 67, 0.3), 0px 1px 3px 1px rgba(60, 64, 67, 0.15);\n",
              "      fill: #174EA6;\n",
              "    }\n",
              "\n",
              "    .colab-df-buttons div {\n",
              "      margin-bottom: 4px;\n",
              "    }\n",
              "\n",
              "    [theme=dark] .colab-df-convert {\n",
              "      background-color: #3B4455;\n",
              "      fill: #D2E3FC;\n",
              "    }\n",
              "\n",
              "    [theme=dark] .colab-df-convert:hover {\n",
              "      background-color: #434B5C;\n",
              "      box-shadow: 0px 1px 3px 1px rgba(0, 0, 0, 0.15);\n",
              "      filter: drop-shadow(0px 1px 2px rgba(0, 0, 0, 0.3));\n",
              "      fill: #FFFFFF;\n",
              "    }\n",
              "  </style>\n",
              "\n",
              "    <script>\n",
              "      const buttonEl =\n",
              "        document.querySelector('#df-d9c110c0-dfbb-486f-9e13-cdb7814cf580 button.colab-df-convert');\n",
              "      buttonEl.style.display =\n",
              "        google.colab.kernel.accessAllowed ? 'block' : 'none';\n",
              "\n",
              "      async function convertToInteractive(key) {\n",
              "        const element = document.querySelector('#df-d9c110c0-dfbb-486f-9e13-cdb7814cf580');\n",
              "        const dataTable =\n",
              "          await google.colab.kernel.invokeFunction('convertToInteractive',\n",
              "                                                    [key], {});\n",
              "        if (!dataTable) return;\n",
              "\n",
              "        const docLinkHtml = 'Like what you see? Visit the ' +\n",
              "          '<a target=\"_blank\" href=https://colab.research.google.com/notebooks/data_table.ipynb>data table notebook</a>'\n",
              "          + ' to learn more about interactive tables.';\n",
              "        element.innerHTML = '';\n",
              "        dataTable['output_type'] = 'display_data';\n",
              "        await google.colab.output.renderOutput(dataTable, element);\n",
              "        const docLink = document.createElement('div');\n",
              "        docLink.innerHTML = docLinkHtml;\n",
              "        element.appendChild(docLink);\n",
              "      }\n",
              "    </script>\n",
              "  </div>\n",
              "\n",
              "\n",
              "<div id=\"df-61899b75-6b4a-4c86-b770-dbb73633e358\">\n",
              "  <button class=\"colab-df-quickchart\" onclick=\"quickchart('df-61899b75-6b4a-4c86-b770-dbb73633e358')\"\n",
              "            title=\"Suggest charts\"\n",
              "            style=\"display:none;\">\n",
              "\n",
              "<svg xmlns=\"http://www.w3.org/2000/svg\" height=\"24px\"viewBox=\"0 0 24 24\"\n",
              "     width=\"24px\">\n",
              "    <g>\n",
              "        <path d=\"M19 3H5c-1.1 0-2 .9-2 2v14c0 1.1.9 2 2 2h14c1.1 0 2-.9 2-2V5c0-1.1-.9-2-2-2zM9 17H7v-7h2v7zm4 0h-2V7h2v10zm4 0h-2v-4h2v4z\"/>\n",
              "    </g>\n",
              "</svg>\n",
              "  </button>\n",
              "\n",
              "<style>\n",
              "  .colab-df-quickchart {\n",
              "      --bg-color: #E8F0FE;\n",
              "      --fill-color: #1967D2;\n",
              "      --hover-bg-color: #E2EBFA;\n",
              "      --hover-fill-color: #174EA6;\n",
              "      --disabled-fill-color: #AAA;\n",
              "      --disabled-bg-color: #DDD;\n",
              "  }\n",
              "\n",
              "  [theme=dark] .colab-df-quickchart {\n",
              "      --bg-color: #3B4455;\n",
              "      --fill-color: #D2E3FC;\n",
              "      --hover-bg-color: #434B5C;\n",
              "      --hover-fill-color: #FFFFFF;\n",
              "      --disabled-bg-color: #3B4455;\n",
              "      --disabled-fill-color: #666;\n",
              "  }\n",
              "\n",
              "  .colab-df-quickchart {\n",
              "    background-color: var(--bg-color);\n",
              "    border: none;\n",
              "    border-radius: 50%;\n",
              "    cursor: pointer;\n",
              "    display: none;\n",
              "    fill: var(--fill-color);\n",
              "    height: 32px;\n",
              "    padding: 0;\n",
              "    width: 32px;\n",
              "  }\n",
              "\n",
              "  .colab-df-quickchart:hover {\n",
              "    background-color: var(--hover-bg-color);\n",
              "    box-shadow: 0 1px 2px rgba(60, 64, 67, 0.3), 0 1px 3px 1px rgba(60, 64, 67, 0.15);\n",
              "    fill: var(--button-hover-fill-color);\n",
              "  }\n",
              "\n",
              "  .colab-df-quickchart-complete:disabled,\n",
              "  .colab-df-quickchart-complete:disabled:hover {\n",
              "    background-color: var(--disabled-bg-color);\n",
              "    fill: var(--disabled-fill-color);\n",
              "    box-shadow: none;\n",
              "  }\n",
              "\n",
              "  .colab-df-spinner {\n",
              "    border: 2px solid var(--fill-color);\n",
              "    border-color: transparent;\n",
              "    border-bottom-color: var(--fill-color);\n",
              "    animation:\n",
              "      spin 1s steps(1) infinite;\n",
              "  }\n",
              "\n",
              "  @keyframes spin {\n",
              "    0% {\n",
              "      border-color: transparent;\n",
              "      border-bottom-color: var(--fill-color);\n",
              "      border-left-color: var(--fill-color);\n",
              "    }\n",
              "    20% {\n",
              "      border-color: transparent;\n",
              "      border-left-color: var(--fill-color);\n",
              "      border-top-color: var(--fill-color);\n",
              "    }\n",
              "    30% {\n",
              "      border-color: transparent;\n",
              "      border-left-color: var(--fill-color);\n",
              "      border-top-color: var(--fill-color);\n",
              "      border-right-color: var(--fill-color);\n",
              "    }\n",
              "    40% {\n",
              "      border-color: transparent;\n",
              "      border-right-color: var(--fill-color);\n",
              "      border-top-color: var(--fill-color);\n",
              "    }\n",
              "    60% {\n",
              "      border-color: transparent;\n",
              "      border-right-color: var(--fill-color);\n",
              "    }\n",
              "    80% {\n",
              "      border-color: transparent;\n",
              "      border-right-color: var(--fill-color);\n",
              "      border-bottom-color: var(--fill-color);\n",
              "    }\n",
              "    90% {\n",
              "      border-color: transparent;\n",
              "      border-bottom-color: var(--fill-color);\n",
              "    }\n",
              "  }\n",
              "</style>\n",
              "\n",
              "  <script>\n",
              "    async function quickchart(key) {\n",
              "      const quickchartButtonEl =\n",
              "        document.querySelector('#' + key + ' button');\n",
              "      quickchartButtonEl.disabled = true;  // To prevent multiple clicks.\n",
              "      quickchartButtonEl.classList.add('colab-df-spinner');\n",
              "      try {\n",
              "        const charts = await google.colab.kernel.invokeFunction(\n",
              "            'suggestCharts', [key], {});\n",
              "      } catch (error) {\n",
              "        console.error('Error during call to suggestCharts:', error);\n",
              "      }\n",
              "      quickchartButtonEl.classList.remove('colab-df-spinner');\n",
              "      quickchartButtonEl.classList.add('colab-df-quickchart-complete');\n",
              "    }\n",
              "    (() => {\n",
              "      let quickchartButtonEl =\n",
              "        document.querySelector('#df-61899b75-6b4a-4c86-b770-dbb73633e358 button');\n",
              "      quickchartButtonEl.style.display =\n",
              "        google.colab.kernel.accessAllowed ? 'block' : 'none';\n",
              "    })();\n",
              "  </script>\n",
              "</div>\n",
              "\n",
              "    </div>\n",
              "  </div>\n"
            ],
            "application/vnd.google.colaboratory.intrinsic+json": {
              "type": "dataframe",
              "repr_error": "0"
            }
          },
          "metadata": {},
          "execution_count": 24
        }
      ]
    },
    {
      "cell_type": "code",
      "source": [
        "data.to_csv('HSdescription_data_01_86.csv', index=False, encoding='utf-8-sig')"
      ],
      "metadata": {
        "id": "-obcTywFWjD0"
      },
      "execution_count": 22,
      "outputs": []
    },
    {
      "cell_type": "code",
      "source": [
        "rows[4:]"
      ],
      "metadata": {
        "id": "du0si7wnWkfE",
        "outputId": "5777070a-7a6b-497a-cfca-125850fbff2a",
        "colab": {
          "base_uri": "https://localhost:8080/"
        }
      },
      "execution_count": 37,
      "outputs": [
        {
          "output_type": "execute_result",
          "data": {
            "text/plain": [
              "[<tr> <td class=\"ellipsis\" title=\"WCO\">WCO</td> <td class=\"ellipsis\" title=\"2022\">2022</td> <td class=\"ellipsis\" title=\"호\">호</td> <td class=\"ellipsis\" title=\"7001\">7001</td> <td class=\"hsList\" title=\"70.01 - 깨진 유리, 유리의 그 밖의 웨이스트(waste)ㆍ스크랩(scrap)[제8549호의 음극선관에서 얻어진 유리와 그 밖의 활성화된 유리를 제외한다], 유리 괴(塊) 이 호에는 다음의 것을 분류한다. (A) 유리를 제조할 때 생기는 모든 종류의 유리 웨이스트(waste)와 스크랩(scrap)[용융(...\"> <a class=\"dtlInfo\" href=\"#\">70.01 - 깨진 유리, 유리의 그 밖의 웨이스트(waste)ㆍ스크랩(scrap)[제8549호의 음극선관에서 얻어진 유리와 그 밖의 활성화된 유리를 제외한다], 유리 괴(塊) 이 호에는 다음의 것을 분류한다. (A) 유리를 제조할 때 생기는 모든 종류의 유리 웨이스트(waste)와 스크랩(scrap)[용융(...</a> </td> </tr>,\n",
              " <tr> <td class=\"ellipsis\" title=\"WCO\">WCO</td> <td class=\"ellipsis\" title=\"2022\">2022</td> <td class=\"ellipsis\" title=\"호\">호</td> <td class=\"ellipsis\" title=\"7002\">7002</td> <td class=\"hsList\" title=\"70.02 - 유리로 만든 구(球)[제7018호의 마이크로스피어(microsphere)는 제외한다], 막대(rod)나 관(管)(가공하지 않은 것으로 한정한다) 7002.10 - 구(球) 7002.20 - 막대(rod) - 관(管) 7002.31 -- 석영유리 또는 용융실리카로 만든 것 7002.32 -- 선팽...\"> <a class=\"dtlInfo\" href=\"#\">70.02 - 유리로 만든 구(球)[제7018호의 마이크로스피어(microsphere)는 제외한다], 막대(rod)나 관(管)(가공하지 않은 것으로 한정한다) 7002.10 - 구(球) 7002.20 - 막대(rod) - 관(管) 7002.31 -- 석영유리 또는 용융실리카로 만든 것 7002.32 -- 선팽...</a> </td> </tr>,\n",
              " <tr> <td class=\"ellipsis\" title=\"WCO\">WCO</td> <td class=\"ellipsis\" title=\"2022\">2022</td> <td class=\"ellipsis\" title=\"호\">호</td> <td class=\"ellipsis\" title=\"7003\">7003</td> <td class=\"hsList\" title=\"70.03 - 주입법과 롤(roll)법으로 제조한 유리[시트(sheet) 모양이나 프로파일(profile) 모양으로 한정하고, 흡수층ㆍ반사층ㆍ무반사층인지에 상관없으며 그 밖의 방법으로 가공하지 않은 것으로 한정한다] - 망입(網入)하지 않은 시트(sheet) 유리 7003.12 -- 전 부분을 착색한 것(엷게...\"> <a class=\"dtlInfo\" href=\"#\">70.03 - 주입법과 롤(roll)법으로 제조한 유리[시트(sheet) 모양이나 프로파일(profile) 모양으로 한정하고, 흡수층ㆍ반사층ㆍ무반사층인지에 상관없으며 그 밖의 방법으로 가공하지 않은 것으로 한정한다] - 망입(網入)하지 않은 시트(sheet) 유리 7003.12 -- 전 부분을 착색한 것(엷게...</a> </td> </tr>,\n",
              " <tr> <td class=\"ellipsis\" title=\"WCO\">WCO</td> <td class=\"ellipsis\" title=\"2022\">2022</td> <td class=\"ellipsis\" title=\"호\">호</td> <td class=\"ellipsis\" title=\"7004\">7004</td> <td class=\"hsList\" title=\"70.04 - 인상법(引上法)과 취입법(吹入法)으로 제조한 유리[시트(sheet) 모양으로 한정하고, 흡수층ㆍ반사층ㆍ무반사층인지에 상관없으며 그 밖의 방법으로 가공하지 않은 것으로 한정한다] 7004.20 - 전 부분을 착색한 것(엷게 착색한 것을 포함한다), 불투명한 것, 다른 착색유리로 입힌 것, 흡수층ㆍ...\"> <a class=\"dtlInfo\" href=\"#\">70.04 - 인상법(引上法)과 취입법(吹入法)으로 제조한 유리[시트(sheet) 모양으로 한정하고, 흡수층ㆍ반사층ㆍ무반사층인지에 상관없으며 그 밖의 방법으로 가공하지 않은 것으로 한정한다] 7004.20 - 전 부분을 착색한 것(엷게 착색한 것을 포함한다), 불투명한 것, 다른 착색유리로 입힌 것, 흡수층ㆍ...</a> </td> </tr>,\n",
              " <tr> <td class=\"ellipsis\" title=\"WCO\">WCO</td> <td class=\"ellipsis\" title=\"2022\">2022</td> <td class=\"ellipsis\" title=\"호\">호</td> <td class=\"ellipsis\" title=\"7005\">7005</td> <td class=\"hsList\" title=\"70.05 - 플로트유리(float glass)와 표면을 연마한 유리[시트(sheet) 모양으로 한정하고, 흡수층ㆍ반사층ㆍ무반사층인지에 상관없으며 그 밖의 방법으로 가공하지 않은 것으로 한정한다] 7005.10 - 망입(網入)하지 않은 유리(흡수층ㆍ반사층ㆍ무반사층을 갖고 있는 것으로 한정한다) - 그 밖의 망...\"> <a class=\"dtlInfo\" href=\"#\">70.05 - 플로트유리(float glass)와 표면을 연마한 유리[시트(sheet) 모양으로 한정하고, 흡수층ㆍ반사층ㆍ무반사층인지에 상관없으며 그 밖의 방법으로 가공하지 않은 것으로 한정한다] 7005.10 - 망입(網入)하지 않은 유리(흡수층ㆍ반사층ㆍ무반사층을 갖고 있는 것으로 한정한다) - 그 밖의 망...</a> </td> </tr>,\n",
              " <tr> <td class=\"ellipsis\" title=\"WCO\">WCO</td> <td class=\"ellipsis\" title=\"2022\">2022</td> <td class=\"ellipsis\" title=\"호\">호</td> <td class=\"ellipsis\" title=\"7006\">7006</td> <td class=\"hsList\" title=\"70.06 - 제7003호ㆍ제7004호ㆍ제7005호의 유리(구부린 것ㆍ가장자리 가공한 것ㆍ조각한 것ㆍ구멍을 뚫은 것ㆍ에나멜을 칠한 것이나 그 밖의 방법으로 가공한 것으로 한정하며, 프레임을 붙인 것이나 그 밖의 재료를 붙인 것은 제외한다) 이 호에는 제7003호부터 제7005호까지에서 제시한 형태의 유리로서 ...\"> <a class=\"dtlInfo\" href=\"#\">70.06 - 제7003호ㆍ제7004호ㆍ제7005호의 유리(구부린 것ㆍ가장자리 가공한 것ㆍ조각한 것ㆍ구멍을 뚫은 것ㆍ에나멜을 칠한 것이나 그 밖의 방법으로 가공한 것으로 한정하며, 프레임을 붙인 것이나 그 밖의 재료를 붙인 것은 제외한다) 이 호에는 제7003호부터 제7005호까지에서 제시한 형태의 유리로서 ...</a> </td> </tr>]"
            ]
          },
          "metadata": {},
          "execution_count": 37
        }
      ]
    },
    {
      "cell_type": "code",
      "source": [
        "test1=\"제70류 유리와 유리제품 주: 1. 이 류에서 다음 각 목의 것은 제외한다. 가. 제3207호의 물품[예: 법랑ㆍ유약ㆍ유리프리트(frit)와 가루 모양ㆍ알갱이 모양ㆍ플레이크(flake) 모양인 그 밖의 유리] 나. 제71류의 물품(예:  모조 신변장식용품) 다. 제8544호의 광섬유 케이블, 애자(제8546호...\""
      ],
      "metadata": {
        "id": "Wgfqcd6z9701"
      },
      "execution_count": 25,
      "outputs": []
    },
    {
      "cell_type": "code",
      "source": [
        "dtl_element = driver.find_element(By.LINK_TEXT, test1)\n",
        "dtl_element.click()\n",
        "time.sleep(1)  # Wait for the leftArea and rightArea to load\n",
        "\n",
        "# Extract text from leftArea\n",
        "left_area = driver.find_element(By.ID, 'divLft_tab4')\n",
        "left_area_text = left_area.text.strip()\n",
        "\n",
        "# Extract text from rightArea\n",
        "right_area = driver.find_element(By.ID, 'divRght_tab4')\n",
        "right_area_text = right_area.text.strip()\n",
        "\n",
        "# Go back to the main page to continue scraping\n",
        "time.sleep(1)  # Wait for the page to load\n",
        "\n",
        "# Add data to the DataFrame\n",
        "data.loc[len(data)] = cols + [left_area_text, right_area_text]"
      ],
      "metadata": {
        "id": "HWPNAvec-Vvf"
      },
      "execution_count": 28,
      "outputs": []
    },
    {
      "cell_type": "code",
      "source": [
        "data.tail()"
      ],
      "metadata": {
        "id": "ffA_xojq-iC9",
        "outputId": "79d50b75-df04-4b27-b32c-da9b3b360b6c",
        "colab": {
          "base_uri": "https://localhost:8080/",
          "height": 206
        }
      },
      "execution_count": 29,
      "outputs": [
        {
          "output_type": "execute_result",
          "data": {
            "text/plain": [
              "      구분    년도 단위  HS분류                                                 내용  \\\n",
              "859  WCO  2022  호  6911  69.11 - 자기제의 식탁용품ㆍ주방용품ㆍ그 밖의 가정용품ㆍ화장용품 6911.10 ...   \n",
              "860  WCO  2022  호  6912  69.12 - 도자제의 식탁용품ㆍ주방용품ㆍ그 밖의 가정용품ㆍ화장용품(자기제의 것은 ...   \n",
              "861  WCO  2022  호  6913  69.13 - 도자제의 작은 조각상과 그 밖의 장식용 제품 6913.10 - 자기제...   \n",
              "862  WCO  2022  호  6914  69.14 - 도자제의 그 밖의 제품 6914.10 - 자기제의 것 6914.90 ...   \n",
              "863  WCO  2022  류    70  제70류 유리와 유리제품 주: 1. 이 류에서 다음 각 목의 것은 제외한다. 가. ...   \n",
              "\n",
              "                                             Left Area  \\\n",
              "859  69.11 - 자기제의 식탁용품ㆍ주방용품ㆍ그 밖의 가정용품ㆍ화장용품\\n6911.10...   \n",
              "860  69.12 - 도자제의 식탁용품ㆍ주방용품ㆍ그 밖의 가정용품ㆍ화장용품(자기제의 것은 ...   \n",
              "861  69.13 - 도자제의 작은 조각상과 그 밖의 장식용 제품\\n6913.10 - 자기...   \n",
              "862  69.14 - 도자제의 그 밖의 제품\\n6914.10 - 자기제의 것\\n6914.9...   \n",
              "863  70.01 - 깨진 유리, 유리의 그 밖의 웨이스트(waste)ㆍ스크랩(scrap)...   \n",
              "\n",
              "                                            Right Area  \n",
              "859  69.11 - Tableware, kitchenware, other househol...  \n",
              "860  69.12 - Ceramic tableware, kitchenware, other ...  \n",
              "861  69.13 - Statuettes and other ornamental cerami...  \n",
              "862  69.14 - Other ceramic articles.\\n6914.10 - Of ...  \n",
              "863  70.01 - Cullet and other waste and scrap of gl...  "
            ],
            "text/html": [
              "\n",
              "  <div id=\"df-994178bc-fc3b-459b-ae45-cdb760fdd25a\" class=\"colab-df-container\">\n",
              "    <div>\n",
              "<style scoped>\n",
              "    .dataframe tbody tr th:only-of-type {\n",
              "        vertical-align: middle;\n",
              "    }\n",
              "\n",
              "    .dataframe tbody tr th {\n",
              "        vertical-align: top;\n",
              "    }\n",
              "\n",
              "    .dataframe thead th {\n",
              "        text-align: right;\n",
              "    }\n",
              "</style>\n",
              "<table border=\"1\" class=\"dataframe\">\n",
              "  <thead>\n",
              "    <tr style=\"text-align: right;\">\n",
              "      <th></th>\n",
              "      <th>구분</th>\n",
              "      <th>년도</th>\n",
              "      <th>단위</th>\n",
              "      <th>HS분류</th>\n",
              "      <th>내용</th>\n",
              "      <th>Left Area</th>\n",
              "      <th>Right Area</th>\n",
              "    </tr>\n",
              "  </thead>\n",
              "  <tbody>\n",
              "    <tr>\n",
              "      <th>859</th>\n",
              "      <td>WCO</td>\n",
              "      <td>2022</td>\n",
              "      <td>호</td>\n",
              "      <td>6911</td>\n",
              "      <td>69.11 - 자기제의 식탁용품ㆍ주방용품ㆍ그 밖의 가정용품ㆍ화장용품 6911.10 ...</td>\n",
              "      <td>69.11 - 자기제의 식탁용품ㆍ주방용품ㆍ그 밖의 가정용품ㆍ화장용품\\n6911.10...</td>\n",
              "      <td>69.11 - Tableware, kitchenware, other househol...</td>\n",
              "    </tr>\n",
              "    <tr>\n",
              "      <th>860</th>\n",
              "      <td>WCO</td>\n",
              "      <td>2022</td>\n",
              "      <td>호</td>\n",
              "      <td>6912</td>\n",
              "      <td>69.12 - 도자제의 식탁용품ㆍ주방용품ㆍ그 밖의 가정용품ㆍ화장용품(자기제의 것은 ...</td>\n",
              "      <td>69.12 - 도자제의 식탁용품ㆍ주방용품ㆍ그 밖의 가정용품ㆍ화장용품(자기제의 것은 ...</td>\n",
              "      <td>69.12 - Ceramic tableware, kitchenware, other ...</td>\n",
              "    </tr>\n",
              "    <tr>\n",
              "      <th>861</th>\n",
              "      <td>WCO</td>\n",
              "      <td>2022</td>\n",
              "      <td>호</td>\n",
              "      <td>6913</td>\n",
              "      <td>69.13 - 도자제의 작은 조각상과 그 밖의 장식용 제품 6913.10 - 자기제...</td>\n",
              "      <td>69.13 - 도자제의 작은 조각상과 그 밖의 장식용 제품\\n6913.10 - 자기...</td>\n",
              "      <td>69.13 - Statuettes and other ornamental cerami...</td>\n",
              "    </tr>\n",
              "    <tr>\n",
              "      <th>862</th>\n",
              "      <td>WCO</td>\n",
              "      <td>2022</td>\n",
              "      <td>호</td>\n",
              "      <td>6914</td>\n",
              "      <td>69.14 - 도자제의 그 밖의 제품 6914.10 - 자기제의 것 6914.90 ...</td>\n",
              "      <td>69.14 - 도자제의 그 밖의 제품\\n6914.10 - 자기제의 것\\n6914.9...</td>\n",
              "      <td>69.14 - Other ceramic articles.\\n6914.10 - Of ...</td>\n",
              "    </tr>\n",
              "    <tr>\n",
              "      <th>863</th>\n",
              "      <td>WCO</td>\n",
              "      <td>2022</td>\n",
              "      <td>류</td>\n",
              "      <td>70</td>\n",
              "      <td>제70류 유리와 유리제품 주: 1. 이 류에서 다음 각 목의 것은 제외한다. 가. ...</td>\n",
              "      <td>70.01 - 깨진 유리, 유리의 그 밖의 웨이스트(waste)ㆍ스크랩(scrap)...</td>\n",
              "      <td>70.01 - Cullet and other waste and scrap of gl...</td>\n",
              "    </tr>\n",
              "  </tbody>\n",
              "</table>\n",
              "</div>\n",
              "    <div class=\"colab-df-buttons\">\n",
              "\n",
              "  <div class=\"colab-df-container\">\n",
              "    <button class=\"colab-df-convert\" onclick=\"convertToInteractive('df-994178bc-fc3b-459b-ae45-cdb760fdd25a')\"\n",
              "            title=\"Convert this dataframe to an interactive table.\"\n",
              "            style=\"display:none;\">\n",
              "\n",
              "  <svg xmlns=\"http://www.w3.org/2000/svg\" height=\"24px\" viewBox=\"0 -960 960 960\">\n",
              "    <path d=\"M120-120v-720h720v720H120Zm60-500h600v-160H180v160Zm220 220h160v-160H400v160Zm0 220h160v-160H400v160ZM180-400h160v-160H180v160Zm440 0h160v-160H620v160ZM180-180h160v-160H180v160Zm440 0h160v-160H620v160Z\"/>\n",
              "  </svg>\n",
              "    </button>\n",
              "\n",
              "  <style>\n",
              "    .colab-df-container {\n",
              "      display:flex;\n",
              "      gap: 12px;\n",
              "    }\n",
              "\n",
              "    .colab-df-convert {\n",
              "      background-color: #E8F0FE;\n",
              "      border: none;\n",
              "      border-radius: 50%;\n",
              "      cursor: pointer;\n",
              "      display: none;\n",
              "      fill: #1967D2;\n",
              "      height: 32px;\n",
              "      padding: 0 0 0 0;\n",
              "      width: 32px;\n",
              "    }\n",
              "\n",
              "    .colab-df-convert:hover {\n",
              "      background-color: #E2EBFA;\n",
              "      box-shadow: 0px 1px 2px rgba(60, 64, 67, 0.3), 0px 1px 3px 1px rgba(60, 64, 67, 0.15);\n",
              "      fill: #174EA6;\n",
              "    }\n",
              "\n",
              "    .colab-df-buttons div {\n",
              "      margin-bottom: 4px;\n",
              "    }\n",
              "\n",
              "    [theme=dark] .colab-df-convert {\n",
              "      background-color: #3B4455;\n",
              "      fill: #D2E3FC;\n",
              "    }\n",
              "\n",
              "    [theme=dark] .colab-df-convert:hover {\n",
              "      background-color: #434B5C;\n",
              "      box-shadow: 0px 1px 3px 1px rgba(0, 0, 0, 0.15);\n",
              "      filter: drop-shadow(0px 1px 2px rgba(0, 0, 0, 0.3));\n",
              "      fill: #FFFFFF;\n",
              "    }\n",
              "  </style>\n",
              "\n",
              "    <script>\n",
              "      const buttonEl =\n",
              "        document.querySelector('#df-994178bc-fc3b-459b-ae45-cdb760fdd25a button.colab-df-convert');\n",
              "      buttonEl.style.display =\n",
              "        google.colab.kernel.accessAllowed ? 'block' : 'none';\n",
              "\n",
              "      async function convertToInteractive(key) {\n",
              "        const element = document.querySelector('#df-994178bc-fc3b-459b-ae45-cdb760fdd25a');\n",
              "        const dataTable =\n",
              "          await google.colab.kernel.invokeFunction('convertToInteractive',\n",
              "                                                    [key], {});\n",
              "        if (!dataTable) return;\n",
              "\n",
              "        const docLinkHtml = 'Like what you see? Visit the ' +\n",
              "          '<a target=\"_blank\" href=https://colab.research.google.com/notebooks/data_table.ipynb>data table notebook</a>'\n",
              "          + ' to learn more about interactive tables.';\n",
              "        element.innerHTML = '';\n",
              "        dataTable['output_type'] = 'display_data';\n",
              "        await google.colab.output.renderOutput(dataTable, element);\n",
              "        const docLink = document.createElement('div');\n",
              "        docLink.innerHTML = docLinkHtml;\n",
              "        element.appendChild(docLink);\n",
              "      }\n",
              "    </script>\n",
              "  </div>\n",
              "\n",
              "\n",
              "<div id=\"df-4b3e445a-b600-4823-96ea-40db1fc86d68\">\n",
              "  <button class=\"colab-df-quickchart\" onclick=\"quickchart('df-4b3e445a-b600-4823-96ea-40db1fc86d68')\"\n",
              "            title=\"Suggest charts\"\n",
              "            style=\"display:none;\">\n",
              "\n",
              "<svg xmlns=\"http://www.w3.org/2000/svg\" height=\"24px\"viewBox=\"0 0 24 24\"\n",
              "     width=\"24px\">\n",
              "    <g>\n",
              "        <path d=\"M19 3H5c-1.1 0-2 .9-2 2v14c0 1.1.9 2 2 2h14c1.1 0 2-.9 2-2V5c0-1.1-.9-2-2-2zM9 17H7v-7h2v7zm4 0h-2V7h2v10zm4 0h-2v-4h2v4z\"/>\n",
              "    </g>\n",
              "</svg>\n",
              "  </button>\n",
              "\n",
              "<style>\n",
              "  .colab-df-quickchart {\n",
              "      --bg-color: #E8F0FE;\n",
              "      --fill-color: #1967D2;\n",
              "      --hover-bg-color: #E2EBFA;\n",
              "      --hover-fill-color: #174EA6;\n",
              "      --disabled-fill-color: #AAA;\n",
              "      --disabled-bg-color: #DDD;\n",
              "  }\n",
              "\n",
              "  [theme=dark] .colab-df-quickchart {\n",
              "      --bg-color: #3B4455;\n",
              "      --fill-color: #D2E3FC;\n",
              "      --hover-bg-color: #434B5C;\n",
              "      --hover-fill-color: #FFFFFF;\n",
              "      --disabled-bg-color: #3B4455;\n",
              "      --disabled-fill-color: #666;\n",
              "  }\n",
              "\n",
              "  .colab-df-quickchart {\n",
              "    background-color: var(--bg-color);\n",
              "    border: none;\n",
              "    border-radius: 50%;\n",
              "    cursor: pointer;\n",
              "    display: none;\n",
              "    fill: var(--fill-color);\n",
              "    height: 32px;\n",
              "    padding: 0;\n",
              "    width: 32px;\n",
              "  }\n",
              "\n",
              "  .colab-df-quickchart:hover {\n",
              "    background-color: var(--hover-bg-color);\n",
              "    box-shadow: 0 1px 2px rgba(60, 64, 67, 0.3), 0 1px 3px 1px rgba(60, 64, 67, 0.15);\n",
              "    fill: var(--button-hover-fill-color);\n",
              "  }\n",
              "\n",
              "  .colab-df-quickchart-complete:disabled,\n",
              "  .colab-df-quickchart-complete:disabled:hover {\n",
              "    background-color: var(--disabled-bg-color);\n",
              "    fill: var(--disabled-fill-color);\n",
              "    box-shadow: none;\n",
              "  }\n",
              "\n",
              "  .colab-df-spinner {\n",
              "    border: 2px solid var(--fill-color);\n",
              "    border-color: transparent;\n",
              "    border-bottom-color: var(--fill-color);\n",
              "    animation:\n",
              "      spin 1s steps(1) infinite;\n",
              "  }\n",
              "\n",
              "  @keyframes spin {\n",
              "    0% {\n",
              "      border-color: transparent;\n",
              "      border-bottom-color: var(--fill-color);\n",
              "      border-left-color: var(--fill-color);\n",
              "    }\n",
              "    20% {\n",
              "      border-color: transparent;\n",
              "      border-left-color: var(--fill-color);\n",
              "      border-top-color: var(--fill-color);\n",
              "    }\n",
              "    30% {\n",
              "      border-color: transparent;\n",
              "      border-left-color: var(--fill-color);\n",
              "      border-top-color: var(--fill-color);\n",
              "      border-right-color: var(--fill-color);\n",
              "    }\n",
              "    40% {\n",
              "      border-color: transparent;\n",
              "      border-right-color: var(--fill-color);\n",
              "      border-top-color: var(--fill-color);\n",
              "    }\n",
              "    60% {\n",
              "      border-color: transparent;\n",
              "      border-right-color: var(--fill-color);\n",
              "    }\n",
              "    80% {\n",
              "      border-color: transparent;\n",
              "      border-right-color: var(--fill-color);\n",
              "      border-bottom-color: var(--fill-color);\n",
              "    }\n",
              "    90% {\n",
              "      border-color: transparent;\n",
              "      border-bottom-color: var(--fill-color);\n",
              "    }\n",
              "  }\n",
              "</style>\n",
              "\n",
              "  <script>\n",
              "    async function quickchart(key) {\n",
              "      const quickchartButtonEl =\n",
              "        document.querySelector('#' + key + ' button');\n",
              "      quickchartButtonEl.disabled = true;  // To prevent multiple clicks.\n",
              "      quickchartButtonEl.classList.add('colab-df-spinner');\n",
              "      try {\n",
              "        const charts = await google.colab.kernel.invokeFunction(\n",
              "            'suggestCharts', [key], {});\n",
              "      } catch (error) {\n",
              "        console.error('Error during call to suggestCharts:', error);\n",
              "      }\n",
              "      quickchartButtonEl.classList.remove('colab-df-spinner');\n",
              "      quickchartButtonEl.classList.add('colab-df-quickchart-complete');\n",
              "    }\n",
              "    (() => {\n",
              "      let quickchartButtonEl =\n",
              "        document.querySelector('#df-4b3e445a-b600-4823-96ea-40db1fc86d68 button');\n",
              "      quickchartButtonEl.style.display =\n",
              "        google.colab.kernel.accessAllowed ? 'block' : 'none';\n",
              "    })();\n",
              "  </script>\n",
              "</div>\n",
              "\n",
              "    </div>\n",
              "  </div>\n"
            ],
            "application/vnd.google.colaboratory.intrinsic+json": {
              "type": "dataframe",
              "repr_error": "0"
            }
          },
          "metadata": {},
          "execution_count": 29
        }
      ]
    },
    {
      "cell_type": "code",
      "source": [
        "test2=\"70.01 - 깨진 유리, 유리의 그 밖의 웨이스트(waste)ㆍ스크랩(scrap)[제8549호의 음극선관에서 얻어진 유리와 그 밖의 활성화된 유리를 제외한다], 유리 괴(塊) 이 호에는 다음의 것을 분류한다. (A) 유리를 제조할 때 생기는 모든 종류의 유리 웨이스트(waste)와 스크랩(scrap)[용융(...\""
      ],
      "metadata": {
        "id": "BgBiAZEI-i7h"
      },
      "execution_count": 32,
      "outputs": []
    },
    {
      "cell_type": "code",
      "source": [
        "dtl_element = driver.find_element(By.LINK_TEXT, test2)\n",
        "dtl_element.click()\n",
        "time.sleep(1)  # Wait for the leftArea and rightArea to load\n",
        "\n",
        "# Extract text from leftArea\n",
        "left_area = driver.find_element(By.ID, 'divLft_tab4')\n",
        "left_area_text = left_area.text.strip()\n",
        "\n",
        "# Extract text from rightArea\n",
        "right_area = driver.find_element(By.ID, 'divRght_tab4')\n",
        "right_area_text = right_area.text.strip()\n",
        "\n",
        "# Go back to the main page to continue scraping\n",
        "time.sleep(1)  # Wait for the page to load\n",
        "\n",
        "# Add data to the DataFrame\n",
        "data.loc[len(data)] = cols + [left_area_text, right_area_text]"
      ],
      "metadata": {
        "id": "fMRgs9Om-r-v"
      },
      "execution_count": 33,
      "outputs": []
    },
    {
      "cell_type": "code",
      "source": [
        "data.tail()"
      ],
      "metadata": {
        "id": "I5qAFtNK-xir",
        "outputId": "bf5e8b96-8764-4490-f671-4e206c0eddf5",
        "colab": {
          "base_uri": "https://localhost:8080/",
          "height": 206
        }
      },
      "execution_count": 34,
      "outputs": [
        {
          "output_type": "execute_result",
          "data": {
            "text/plain": [
              "      구분    년도 단위  HS분류                                                 내용  \\\n",
              "860  WCO  2022  호  6912  69.12 - 도자제의 식탁용품ㆍ주방용품ㆍ그 밖의 가정용품ㆍ화장용품(자기제의 것은 ...   \n",
              "861  WCO  2022  호  6913  69.13 - 도자제의 작은 조각상과 그 밖의 장식용 제품 6913.10 - 자기제...   \n",
              "862  WCO  2022  호  6914  69.14 - 도자제의 그 밖의 제품 6914.10 - 자기제의 것 6914.90 ...   \n",
              "863  WCO  2022  류    70  제70류 유리와 유리제품 주: 1. 이 류에서 다음 각 목의 것은 제외한다. 가. ...   \n",
              "864  WCO  2022  류    70  제70류 유리와 유리제품 주: 1. 이 류에서 다음 각 목의 것은 제외한다. 가. ...   \n",
              "\n",
              "                                             Left Area  \\\n",
              "860  69.12 - 도자제의 식탁용품ㆍ주방용품ㆍ그 밖의 가정용품ㆍ화장용품(자기제의 것은 ...   \n",
              "861  69.13 - 도자제의 작은 조각상과 그 밖의 장식용 제품\\n6913.10 - 자기...   \n",
              "862  69.14 - 도자제의 그 밖의 제품\\n6914.10 - 자기제의 것\\n6914.9...   \n",
              "863  70.01 - 깨진 유리, 유리의 그 밖의 웨이스트(waste)ㆍ스크랩(scrap)...   \n",
              "864  70.01 - 깨진 유리, 유리의 그 밖의 웨이스트(waste)ㆍ스크랩(scrap)...   \n",
              "\n",
              "                                            Right Area  \n",
              "860  69.12 - Ceramic tableware, kitchenware, other ...  \n",
              "861  69.13 - Statuettes and other ornamental cerami...  \n",
              "862  69.14 - Other ceramic articles.\\n6914.10 - Of ...  \n",
              "863  70.01 - Cullet and other waste and scrap of gl...  \n",
              "864  70.01 - Cullet and other waste and scrap of gl...  "
            ],
            "text/html": [
              "\n",
              "  <div id=\"df-217529b4-c269-4c76-a319-8da1cb9da66c\" class=\"colab-df-container\">\n",
              "    <div>\n",
              "<style scoped>\n",
              "    .dataframe tbody tr th:only-of-type {\n",
              "        vertical-align: middle;\n",
              "    }\n",
              "\n",
              "    .dataframe tbody tr th {\n",
              "        vertical-align: top;\n",
              "    }\n",
              "\n",
              "    .dataframe thead th {\n",
              "        text-align: right;\n",
              "    }\n",
              "</style>\n",
              "<table border=\"1\" class=\"dataframe\">\n",
              "  <thead>\n",
              "    <tr style=\"text-align: right;\">\n",
              "      <th></th>\n",
              "      <th>구분</th>\n",
              "      <th>년도</th>\n",
              "      <th>단위</th>\n",
              "      <th>HS분류</th>\n",
              "      <th>내용</th>\n",
              "      <th>Left Area</th>\n",
              "      <th>Right Area</th>\n",
              "    </tr>\n",
              "  </thead>\n",
              "  <tbody>\n",
              "    <tr>\n",
              "      <th>860</th>\n",
              "      <td>WCO</td>\n",
              "      <td>2022</td>\n",
              "      <td>호</td>\n",
              "      <td>6912</td>\n",
              "      <td>69.12 - 도자제의 식탁용품ㆍ주방용품ㆍ그 밖의 가정용품ㆍ화장용품(자기제의 것은 ...</td>\n",
              "      <td>69.12 - 도자제의 식탁용품ㆍ주방용품ㆍ그 밖의 가정용품ㆍ화장용품(자기제의 것은 ...</td>\n",
              "      <td>69.12 - Ceramic tableware, kitchenware, other ...</td>\n",
              "    </tr>\n",
              "    <tr>\n",
              "      <th>861</th>\n",
              "      <td>WCO</td>\n",
              "      <td>2022</td>\n",
              "      <td>호</td>\n",
              "      <td>6913</td>\n",
              "      <td>69.13 - 도자제의 작은 조각상과 그 밖의 장식용 제품 6913.10 - 자기제...</td>\n",
              "      <td>69.13 - 도자제의 작은 조각상과 그 밖의 장식용 제품\\n6913.10 - 자기...</td>\n",
              "      <td>69.13 - Statuettes and other ornamental cerami...</td>\n",
              "    </tr>\n",
              "    <tr>\n",
              "      <th>862</th>\n",
              "      <td>WCO</td>\n",
              "      <td>2022</td>\n",
              "      <td>호</td>\n",
              "      <td>6914</td>\n",
              "      <td>69.14 - 도자제의 그 밖의 제품 6914.10 - 자기제의 것 6914.90 ...</td>\n",
              "      <td>69.14 - 도자제의 그 밖의 제품\\n6914.10 - 자기제의 것\\n6914.9...</td>\n",
              "      <td>69.14 - Other ceramic articles.\\n6914.10 - Of ...</td>\n",
              "    </tr>\n",
              "    <tr>\n",
              "      <th>863</th>\n",
              "      <td>WCO</td>\n",
              "      <td>2022</td>\n",
              "      <td>류</td>\n",
              "      <td>70</td>\n",
              "      <td>제70류 유리와 유리제품 주: 1. 이 류에서 다음 각 목의 것은 제외한다. 가. ...</td>\n",
              "      <td>70.01 - 깨진 유리, 유리의 그 밖의 웨이스트(waste)ㆍ스크랩(scrap)...</td>\n",
              "      <td>70.01 - Cullet and other waste and scrap of gl...</td>\n",
              "    </tr>\n",
              "    <tr>\n",
              "      <th>864</th>\n",
              "      <td>WCO</td>\n",
              "      <td>2022</td>\n",
              "      <td>류</td>\n",
              "      <td>70</td>\n",
              "      <td>제70류 유리와 유리제품 주: 1. 이 류에서 다음 각 목의 것은 제외한다. 가. ...</td>\n",
              "      <td>70.01 - 깨진 유리, 유리의 그 밖의 웨이스트(waste)ㆍ스크랩(scrap)...</td>\n",
              "      <td>70.01 - Cullet and other waste and scrap of gl...</td>\n",
              "    </tr>\n",
              "  </tbody>\n",
              "</table>\n",
              "</div>\n",
              "    <div class=\"colab-df-buttons\">\n",
              "\n",
              "  <div class=\"colab-df-container\">\n",
              "    <button class=\"colab-df-convert\" onclick=\"convertToInteractive('df-217529b4-c269-4c76-a319-8da1cb9da66c')\"\n",
              "            title=\"Convert this dataframe to an interactive table.\"\n",
              "            style=\"display:none;\">\n",
              "\n",
              "  <svg xmlns=\"http://www.w3.org/2000/svg\" height=\"24px\" viewBox=\"0 -960 960 960\">\n",
              "    <path d=\"M120-120v-720h720v720H120Zm60-500h600v-160H180v160Zm220 220h160v-160H400v160Zm0 220h160v-160H400v160ZM180-400h160v-160H180v160Zm440 0h160v-160H620v160ZM180-180h160v-160H180v160Zm440 0h160v-160H620v160Z\"/>\n",
              "  </svg>\n",
              "    </button>\n",
              "\n",
              "  <style>\n",
              "    .colab-df-container {\n",
              "      display:flex;\n",
              "      gap: 12px;\n",
              "    }\n",
              "\n",
              "    .colab-df-convert {\n",
              "      background-color: #E8F0FE;\n",
              "      border: none;\n",
              "      border-radius: 50%;\n",
              "      cursor: pointer;\n",
              "      display: none;\n",
              "      fill: #1967D2;\n",
              "      height: 32px;\n",
              "      padding: 0 0 0 0;\n",
              "      width: 32px;\n",
              "    }\n",
              "\n",
              "    .colab-df-convert:hover {\n",
              "      background-color: #E2EBFA;\n",
              "      box-shadow: 0px 1px 2px rgba(60, 64, 67, 0.3), 0px 1px 3px 1px rgba(60, 64, 67, 0.15);\n",
              "      fill: #174EA6;\n",
              "    }\n",
              "\n",
              "    .colab-df-buttons div {\n",
              "      margin-bottom: 4px;\n",
              "    }\n",
              "\n",
              "    [theme=dark] .colab-df-convert {\n",
              "      background-color: #3B4455;\n",
              "      fill: #D2E3FC;\n",
              "    }\n",
              "\n",
              "    [theme=dark] .colab-df-convert:hover {\n",
              "      background-color: #434B5C;\n",
              "      box-shadow: 0px 1px 3px 1px rgba(0, 0, 0, 0.15);\n",
              "      filter: drop-shadow(0px 1px 2px rgba(0, 0, 0, 0.3));\n",
              "      fill: #FFFFFF;\n",
              "    }\n",
              "  </style>\n",
              "\n",
              "    <script>\n",
              "      const buttonEl =\n",
              "        document.querySelector('#df-217529b4-c269-4c76-a319-8da1cb9da66c button.colab-df-convert');\n",
              "      buttonEl.style.display =\n",
              "        google.colab.kernel.accessAllowed ? 'block' : 'none';\n",
              "\n",
              "      async function convertToInteractive(key) {\n",
              "        const element = document.querySelector('#df-217529b4-c269-4c76-a319-8da1cb9da66c');\n",
              "        const dataTable =\n",
              "          await google.colab.kernel.invokeFunction('convertToInteractive',\n",
              "                                                    [key], {});\n",
              "        if (!dataTable) return;\n",
              "\n",
              "        const docLinkHtml = 'Like what you see? Visit the ' +\n",
              "          '<a target=\"_blank\" href=https://colab.research.google.com/notebooks/data_table.ipynb>data table notebook</a>'\n",
              "          + ' to learn more about interactive tables.';\n",
              "        element.innerHTML = '';\n",
              "        dataTable['output_type'] = 'display_data';\n",
              "        await google.colab.output.renderOutput(dataTable, element);\n",
              "        const docLink = document.createElement('div');\n",
              "        docLink.innerHTML = docLinkHtml;\n",
              "        element.appendChild(docLink);\n",
              "      }\n",
              "    </script>\n",
              "  </div>\n",
              "\n",
              "\n",
              "<div id=\"df-bf2c2d5a-32b0-4432-a539-66d1a538f09e\">\n",
              "  <button class=\"colab-df-quickchart\" onclick=\"quickchart('df-bf2c2d5a-32b0-4432-a539-66d1a538f09e')\"\n",
              "            title=\"Suggest charts\"\n",
              "            style=\"display:none;\">\n",
              "\n",
              "<svg xmlns=\"http://www.w3.org/2000/svg\" height=\"24px\"viewBox=\"0 0 24 24\"\n",
              "     width=\"24px\">\n",
              "    <g>\n",
              "        <path d=\"M19 3H5c-1.1 0-2 .9-2 2v14c0 1.1.9 2 2 2h14c1.1 0 2-.9 2-2V5c0-1.1-.9-2-2-2zM9 17H7v-7h2v7zm4 0h-2V7h2v10zm4 0h-2v-4h2v4z\"/>\n",
              "    </g>\n",
              "</svg>\n",
              "  </button>\n",
              "\n",
              "<style>\n",
              "  .colab-df-quickchart {\n",
              "      --bg-color: #E8F0FE;\n",
              "      --fill-color: #1967D2;\n",
              "      --hover-bg-color: #E2EBFA;\n",
              "      --hover-fill-color: #174EA6;\n",
              "      --disabled-fill-color: #AAA;\n",
              "      --disabled-bg-color: #DDD;\n",
              "  }\n",
              "\n",
              "  [theme=dark] .colab-df-quickchart {\n",
              "      --bg-color: #3B4455;\n",
              "      --fill-color: #D2E3FC;\n",
              "      --hover-bg-color: #434B5C;\n",
              "      --hover-fill-color: #FFFFFF;\n",
              "      --disabled-bg-color: #3B4455;\n",
              "      --disabled-fill-color: #666;\n",
              "  }\n",
              "\n",
              "  .colab-df-quickchart {\n",
              "    background-color: var(--bg-color);\n",
              "    border: none;\n",
              "    border-radius: 50%;\n",
              "    cursor: pointer;\n",
              "    display: none;\n",
              "    fill: var(--fill-color);\n",
              "    height: 32px;\n",
              "    padding: 0;\n",
              "    width: 32px;\n",
              "  }\n",
              "\n",
              "  .colab-df-quickchart:hover {\n",
              "    background-color: var(--hover-bg-color);\n",
              "    box-shadow: 0 1px 2px rgba(60, 64, 67, 0.3), 0 1px 3px 1px rgba(60, 64, 67, 0.15);\n",
              "    fill: var(--button-hover-fill-color);\n",
              "  }\n",
              "\n",
              "  .colab-df-quickchart-complete:disabled,\n",
              "  .colab-df-quickchart-complete:disabled:hover {\n",
              "    background-color: var(--disabled-bg-color);\n",
              "    fill: var(--disabled-fill-color);\n",
              "    box-shadow: none;\n",
              "  }\n",
              "\n",
              "  .colab-df-spinner {\n",
              "    border: 2px solid var(--fill-color);\n",
              "    border-color: transparent;\n",
              "    border-bottom-color: var(--fill-color);\n",
              "    animation:\n",
              "      spin 1s steps(1) infinite;\n",
              "  }\n",
              "\n",
              "  @keyframes spin {\n",
              "    0% {\n",
              "      border-color: transparent;\n",
              "      border-bottom-color: var(--fill-color);\n",
              "      border-left-color: var(--fill-color);\n",
              "    }\n",
              "    20% {\n",
              "      border-color: transparent;\n",
              "      border-left-color: var(--fill-color);\n",
              "      border-top-color: var(--fill-color);\n",
              "    }\n",
              "    30% {\n",
              "      border-color: transparent;\n",
              "      border-left-color: var(--fill-color);\n",
              "      border-top-color: var(--fill-color);\n",
              "      border-right-color: var(--fill-color);\n",
              "    }\n",
              "    40% {\n",
              "      border-color: transparent;\n",
              "      border-right-color: var(--fill-color);\n",
              "      border-top-color: var(--fill-color);\n",
              "    }\n",
              "    60% {\n",
              "      border-color: transparent;\n",
              "      border-right-color: var(--fill-color);\n",
              "    }\n",
              "    80% {\n",
              "      border-color: transparent;\n",
              "      border-right-color: var(--fill-color);\n",
              "      border-bottom-color: var(--fill-color);\n",
              "    }\n",
              "    90% {\n",
              "      border-color: transparent;\n",
              "      border-bottom-color: var(--fill-color);\n",
              "    }\n",
              "  }\n",
              "</style>\n",
              "\n",
              "  <script>\n",
              "    async function quickchart(key) {\n",
              "      const quickchartButtonEl =\n",
              "        document.querySelector('#' + key + ' button');\n",
              "      quickchartButtonEl.disabled = true;  // To prevent multiple clicks.\n",
              "      quickchartButtonEl.classList.add('colab-df-spinner');\n",
              "      try {\n",
              "        const charts = await google.colab.kernel.invokeFunction(\n",
              "            'suggestCharts', [key], {});\n",
              "      } catch (error) {\n",
              "        console.error('Error during call to suggestCharts:', error);\n",
              "      }\n",
              "      quickchartButtonEl.classList.remove('colab-df-spinner');\n",
              "      quickchartButtonEl.classList.add('colab-df-quickchart-complete');\n",
              "    }\n",
              "    (() => {\n",
              "      let quickchartButtonEl =\n",
              "        document.querySelector('#df-bf2c2d5a-32b0-4432-a539-66d1a538f09e button');\n",
              "      quickchartButtonEl.style.display =\n",
              "        google.colab.kernel.accessAllowed ? 'block' : 'none';\n",
              "    })();\n",
              "  </script>\n",
              "</div>\n",
              "\n",
              "    </div>\n",
              "  </div>\n"
            ],
            "application/vnd.google.colaboratory.intrinsic+json": {
              "type": "dataframe",
              "repr_error": "0"
            }
          },
          "metadata": {},
          "execution_count": 34
        }
      ]
    },
    {
      "cell_type": "code",
      "source": [
        "for row in rows[5:]:\n",
        "      cols = row.find_all('td')\n",
        "      cols = [col.text.strip() for col in cols]  # Extract text and clean up whitespace\n",
        "      if cols:  # Check if the row has data\n",
        "          # Click on the `dtlInfo` link\n",
        "          dtl_link = row.find('a', class_='dtlInfo')\n",
        "          if dtl_link:\n",
        "              dtl_element = driver.find_element(By.LINK_TEXT, dtl_link.text)\n",
        "              dtl_element.click()\n",
        "              time.sleep(1)  # Wait for the leftArea and rightArea to load\n",
        "\n",
        "              # Extract text from leftArea\n",
        "              left_area = driver.find_element(By.ID, 'divLft_tab4')\n",
        "              left_area_text = left_area.text.strip()\n",
        "\n",
        "              # Extract text from rightArea\n",
        "              right_area = driver.find_element(By.ID, 'divRght_tab4')\n",
        "              right_area_text = right_area.text.strip()\n",
        "\n",
        "              # Go back to the main page to continue scraping\n",
        "              time.sleep(1)  # Wait for the page to load\n",
        "\n",
        "              # Add data to the DataFrame\n",
        "              data.loc[len(data)] = cols + [left_area_text, right_area_text]"
      ],
      "metadata": {
        "id": "KyO6Xqii-3h1"
      },
      "execution_count": 38,
      "outputs": []
    },
    {
      "cell_type": "markdown",
      "source": [
        "# 오류 후 다시 88페이지부터 시작"
      ],
      "metadata": {
        "id": "2Mhbk_DJA1jT"
      }
    },
    {
      "cell_type": "code",
      "source": [
        "\n",
        "# 크롬 드라이버 생성\n",
        "# driver = webdriver.Chrome(service=ChromeService(ChromeDriverManager().install()))\n",
        "\n",
        "sys.path.insert(0,chrome_path)\n",
        "chrome_options = webdriver.ChromeOptions()\n",
        "chrome_options.add_argument('--headless') # ensure GUI is off\n",
        "chrome_options.add_argument('--no-sandbox')\n",
        "chrome_options.add_argument('--disable-dev-shm-usage')  # set path to chromedriver as per your configuration\n",
        "chrome_options.add_argument('lang=ko_KR') # 한국어\n",
        "\n",
        "chromedriver_autoinstaller.install()  # set the target URL\n",
        "\n",
        "driver = webdriver.Chrome(options=chrome_options)\n",
        "\n",
        "# 페이지 열기\n",
        "url = \"https://unipass.customs.go.kr/clip/index.do\"\n",
        "driver.get(url)\n",
        "\n",
        "# JavaScript가 실행될 시간을 기다리기\n",
        "driver.implicitly_wait(10)  # 최대 10초 대기\n",
        "\n",
        "# 페이지의 HTML 가져오기\n",
        "# soup = BeautifulSoup(driver.page_source, 'html.parser')\n",
        "\n",
        "# 세계HS 창을 찾아 click_box 변수에 저장 (By.CLASS_NAME 방식)\n",
        "click_box = driver.find_element(By.CLASS_NAME,\"M_ULS0200000000\")\n",
        "click_box.click()\n",
        "\n",
        "# HS해설서 창을 찾아 click_box 변수에 저장 (By.CLASS_NAME 방식)\n",
        "click_box = driver.find_element(By.XPATH, '//*[@id=\"LEFTMENU_LNK_UI-ULS-0202-001Q\"]/span')\n",
        "click_box.click()\n",
        "\n",
        "# 조회 창을 찾아 click_box 변수에 저장 (By.XPATH 방식)\n",
        "click_box = driver.find_element(By.XPATH, '//*[@id=\"searchVo\"]/div[2]/footer/button/span')\n",
        "driver.execute_script(\"arguments[0].click();\", click_box)\n",
        "\n",
        "\n",
        "# Wait for the table to load\n",
        "time.sleep(5)  # Adjust the wait time as needed\n",
        "\n",
        "# Locate the table\n",
        "table = driver.find_element(By.XPATH, '//*[@id=\"ULS0202001Q_T1_table1\"]/tbody')\n",
        "\n",
        "# Parse the table HTML using BeautifulSoup\n",
        "soup = BeautifulSoup(table.get_attribute(\"outerHTML\"), 'html.parser')\n",
        "\n",
        "# Extract table rows\n",
        "rows = soup.find_all('tr')\n",
        "\n",
        "# Initialize an empty DataFrame\n",
        "# data = pd.DataFrame(columns=[\"구분\", \"년도\", \"단위\", \"HS분류\", \"내용\", \"Left Area\", \"Right Area\"])\n",
        "\n",
        "# # Iterate through the rows and extract data\n",
        "# for row in rows:\n",
        "#     cols = row.find_all('td')\n",
        "#     cols = [col.text.strip() for col in cols]  # Extract text and clean up whitespace\n",
        "#     if cols:  # Check if the row has data\n",
        "#         # Click on the `dtlInfo` link\n",
        "#         dtl_link = row.find('a', class_='dtlInfo')\n",
        "#         if dtl_link:\n",
        "#             dtl_element = driver.find_element(By.LINK_TEXT, dtl_link.text)\n",
        "#             dtl_element.click()\n",
        "#             time.sleep(2)  # Wait for the leftArea and rightArea to load\n",
        "\n",
        "#             # Extract text from leftArea\n",
        "#             left_area = driver.find_element(By.ID, 'divLft_tab4')\n",
        "#             left_area_text = left_area.text.strip()\n",
        "\n",
        "#             # Extract text from rightArea\n",
        "#             right_area = driver.find_element(By.ID, 'divRght_tab4')\n",
        "#             right_area_text = right_area.text.strip()\n",
        "\n",
        "#             # Go back to the main page to continue scraping\n",
        "#             # driver.back()\n",
        "#             time.sleep(2)  # Wait for the page to load\n",
        "\n",
        "#             # Add data to the DataFrame\n",
        "#             data.loc[len(data)] = cols + [left_area_text, right_area_text]\n",
        "\n",
        "find_current_page = driver.find_element(By.XPATH, f'//div[@class=\"paging\"]//li[@class=\"selected\"]')\n",
        "\n",
        "if int(find_current_page.text)//10 != 8:\n",
        "  move_page = driver.find_element(By.XPATH, f'//div[@class=\"paging\"]//li[@class=\"next\"]//a[@href=\"#{(int(find_current_page.text)//10)+1}\"]')\n",
        "  move_page.click()\n",
        "  time.sleep(5)"
      ],
      "metadata": {
        "id": "ofAVGGrh_oA2",
        "outputId": "88489c51-ada8-46d4-fdad-703e2e523951",
        "colab": {
          "base_uri": "https://localhost:8080/",
          "height": 722
        }
      },
      "execution_count": 40,
      "outputs": [
        {
          "output_type": "error",
          "ename": "NoSuchElementException",
          "evalue": "Message: no such element: Unable to locate element: {\"method\":\"xpath\",\"selector\":\"//*[@id=\"searchVo\"]/div[2]/footer/button/span\"}\n  (Session info: chrome=131.0.6778.87); For documentation on this error, please visit: https://www.selenium.dev/documentation/webdriver/troubleshooting/errors#no-such-element-exception\nStacktrace:\n#0 0x59c91bd9d34a <unknown>\n#1 0x59c91b8b36e0 <unknown>\n#2 0x59c91b9023e6 <unknown>\n#3 0x59c91b902681 <unknown>\n#4 0x59c91b947b04 <unknown>\n#5 0x59c91b92648d <unknown>\n#6 0x59c91b944ed7 <unknown>\n#7 0x59c91b926203 <unknown>\n#8 0x59c91b8f4cc0 <unknown>\n#9 0x59c91b8f5c9e <unknown>\n#10 0x59c91bd6ad3b <unknown>\n#11 0x59c91bd6ecc2 <unknown>\n#12 0x59c91bd57b6c <unknown>\n#13 0x59c91bd6f837 <unknown>\n#14 0x59c91bd3d10f <unknown>\n#15 0x59c91bd8c5a8 <unknown>\n#16 0x59c91bd8c770 <unknown>\n#17 0x59c91bd9c1c6 <unknown>\n#18 0x7e0804dbeac3 <unknown>\n",
          "traceback": [
            "\u001b[0;31m---------------------------------------------------------------------------\u001b[0m",
            "\u001b[0;31mNoSuchElementException\u001b[0m                    Traceback (most recent call last)",
            "\u001b[0;32m<ipython-input-40-103c557e873d>\u001b[0m in \u001b[0;36m<cell line: 34>\u001b[0;34m()\u001b[0m\n\u001b[1;32m     32\u001b[0m \u001b[0;34m\u001b[0m\u001b[0m\n\u001b[1;32m     33\u001b[0m \u001b[0;31m# 조회 창을 찾아 click_box 변수에 저장 (By.XPATH 방식)\u001b[0m\u001b[0;34m\u001b[0m\u001b[0;34m\u001b[0m\u001b[0m\n\u001b[0;32m---> 34\u001b[0;31m \u001b[0mclick_box\u001b[0m \u001b[0;34m=\u001b[0m \u001b[0mdriver\u001b[0m\u001b[0;34m.\u001b[0m\u001b[0mfind_element\u001b[0m\u001b[0;34m(\u001b[0m\u001b[0mBy\u001b[0m\u001b[0;34m.\u001b[0m\u001b[0mXPATH\u001b[0m\u001b[0;34m,\u001b[0m \u001b[0;34m'//*[@id=\"searchVo\"]/div[2]/footer/button/span'\u001b[0m\u001b[0;34m)\u001b[0m\u001b[0;34m\u001b[0m\u001b[0;34m\u001b[0m\u001b[0m\n\u001b[0m\u001b[1;32m     35\u001b[0m \u001b[0mdriver\u001b[0m\u001b[0;34m.\u001b[0m\u001b[0mexecute_script\u001b[0m\u001b[0;34m(\u001b[0m\u001b[0;34m\"arguments[0].click();\"\u001b[0m\u001b[0;34m,\u001b[0m \u001b[0mclick_box\u001b[0m\u001b[0;34m)\u001b[0m\u001b[0;34m\u001b[0m\u001b[0;34m\u001b[0m\u001b[0m\n\u001b[1;32m     36\u001b[0m \u001b[0;34m\u001b[0m\u001b[0m\n",
            "\u001b[0;32m/usr/local/lib/python3.10/dist-packages/selenium/webdriver/remote/webdriver.py\u001b[0m in \u001b[0;36mfind_element\u001b[0;34m(self, by, value)\u001b[0m\n\u001b[1;32m    768\u001b[0m             \u001b[0;32mreturn\u001b[0m \u001b[0melements\u001b[0m\u001b[0;34m[\u001b[0m\u001b[0;36m0\u001b[0m\u001b[0;34m]\u001b[0m\u001b[0;34m\u001b[0m\u001b[0;34m\u001b[0m\u001b[0m\n\u001b[1;32m    769\u001b[0m \u001b[0;34m\u001b[0m\u001b[0m\n\u001b[0;32m--> 770\u001b[0;31m         \u001b[0;32mreturn\u001b[0m \u001b[0mself\u001b[0m\u001b[0;34m.\u001b[0m\u001b[0mexecute\u001b[0m\u001b[0;34m(\u001b[0m\u001b[0mCommand\u001b[0m\u001b[0;34m.\u001b[0m\u001b[0mFIND_ELEMENT\u001b[0m\u001b[0;34m,\u001b[0m \u001b[0;34m{\u001b[0m\u001b[0;34m\"using\"\u001b[0m\u001b[0;34m:\u001b[0m \u001b[0mby\u001b[0m\u001b[0;34m,\u001b[0m \u001b[0;34m\"value\"\u001b[0m\u001b[0;34m:\u001b[0m \u001b[0mvalue\u001b[0m\u001b[0;34m}\u001b[0m\u001b[0;34m)\u001b[0m\u001b[0;34m[\u001b[0m\u001b[0;34m\"value\"\u001b[0m\u001b[0;34m]\u001b[0m\u001b[0;34m\u001b[0m\u001b[0;34m\u001b[0m\u001b[0m\n\u001b[0m\u001b[1;32m    771\u001b[0m \u001b[0;34m\u001b[0m\u001b[0m\n\u001b[1;32m    772\u001b[0m     \u001b[0;32mdef\u001b[0m \u001b[0mfind_elements\u001b[0m\u001b[0;34m(\u001b[0m\u001b[0mself\u001b[0m\u001b[0;34m,\u001b[0m \u001b[0mby\u001b[0m\u001b[0;34m=\u001b[0m\u001b[0mBy\u001b[0m\u001b[0;34m.\u001b[0m\u001b[0mID\u001b[0m\u001b[0;34m,\u001b[0m \u001b[0mvalue\u001b[0m\u001b[0;34m:\u001b[0m \u001b[0mOptional\u001b[0m\u001b[0;34m[\u001b[0m\u001b[0mstr\u001b[0m\u001b[0;34m]\u001b[0m \u001b[0;34m=\u001b[0m \u001b[0;32mNone\u001b[0m\u001b[0;34m)\u001b[0m \u001b[0;34m->\u001b[0m \u001b[0mList\u001b[0m\u001b[0;34m[\u001b[0m\u001b[0mWebElement\u001b[0m\u001b[0;34m]\u001b[0m\u001b[0;34m:\u001b[0m\u001b[0;34m\u001b[0m\u001b[0;34m\u001b[0m\u001b[0m\n",
            "\u001b[0;32m/usr/local/lib/python3.10/dist-packages/selenium/webdriver/remote/webdriver.py\u001b[0m in \u001b[0;36mexecute\u001b[0;34m(self, driver_command, params)\u001b[0m\n\u001b[1;32m    382\u001b[0m         \u001b[0mresponse\u001b[0m \u001b[0;34m=\u001b[0m \u001b[0mself\u001b[0m\u001b[0;34m.\u001b[0m\u001b[0mcommand_executor\u001b[0m\u001b[0;34m.\u001b[0m\u001b[0mexecute\u001b[0m\u001b[0;34m(\u001b[0m\u001b[0mdriver_command\u001b[0m\u001b[0;34m,\u001b[0m \u001b[0mparams\u001b[0m\u001b[0;34m)\u001b[0m\u001b[0;34m\u001b[0m\u001b[0;34m\u001b[0m\u001b[0m\n\u001b[1;32m    383\u001b[0m         \u001b[0;32mif\u001b[0m \u001b[0mresponse\u001b[0m\u001b[0;34m:\u001b[0m\u001b[0;34m\u001b[0m\u001b[0;34m\u001b[0m\u001b[0m\n\u001b[0;32m--> 384\u001b[0;31m             \u001b[0mself\u001b[0m\u001b[0;34m.\u001b[0m\u001b[0merror_handler\u001b[0m\u001b[0;34m.\u001b[0m\u001b[0mcheck_response\u001b[0m\u001b[0;34m(\u001b[0m\u001b[0mresponse\u001b[0m\u001b[0;34m)\u001b[0m\u001b[0;34m\u001b[0m\u001b[0;34m\u001b[0m\u001b[0m\n\u001b[0m\u001b[1;32m    385\u001b[0m             \u001b[0mresponse\u001b[0m\u001b[0;34m[\u001b[0m\u001b[0;34m\"value\"\u001b[0m\u001b[0;34m]\u001b[0m \u001b[0;34m=\u001b[0m \u001b[0mself\u001b[0m\u001b[0;34m.\u001b[0m\u001b[0m_unwrap_value\u001b[0m\u001b[0;34m(\u001b[0m\u001b[0mresponse\u001b[0m\u001b[0;34m.\u001b[0m\u001b[0mget\u001b[0m\u001b[0;34m(\u001b[0m\u001b[0;34m\"value\"\u001b[0m\u001b[0;34m,\u001b[0m \u001b[0;32mNone\u001b[0m\u001b[0;34m)\u001b[0m\u001b[0;34m)\u001b[0m\u001b[0;34m\u001b[0m\u001b[0;34m\u001b[0m\u001b[0m\n\u001b[1;32m    386\u001b[0m             \u001b[0;32mreturn\u001b[0m \u001b[0mresponse\u001b[0m\u001b[0;34m\u001b[0m\u001b[0;34m\u001b[0m\u001b[0m\n",
            "\u001b[0;32m/usr/local/lib/python3.10/dist-packages/selenium/webdriver/remote/errorhandler.py\u001b[0m in \u001b[0;36mcheck_response\u001b[0;34m(self, response)\u001b[0m\n\u001b[1;32m    230\u001b[0m                 \u001b[0malert_text\u001b[0m \u001b[0;34m=\u001b[0m \u001b[0mvalue\u001b[0m\u001b[0;34m[\u001b[0m\u001b[0;34m\"alert\"\u001b[0m\u001b[0;34m]\u001b[0m\u001b[0;34m.\u001b[0m\u001b[0mget\u001b[0m\u001b[0;34m(\u001b[0m\u001b[0;34m\"text\"\u001b[0m\u001b[0;34m)\u001b[0m\u001b[0;34m\u001b[0m\u001b[0;34m\u001b[0m\u001b[0m\n\u001b[1;32m    231\u001b[0m             \u001b[0;32mraise\u001b[0m \u001b[0mexception_class\u001b[0m\u001b[0;34m(\u001b[0m\u001b[0mmessage\u001b[0m\u001b[0;34m,\u001b[0m \u001b[0mscreen\u001b[0m\u001b[0;34m,\u001b[0m \u001b[0mstacktrace\u001b[0m\u001b[0;34m,\u001b[0m \u001b[0malert_text\u001b[0m\u001b[0;34m)\u001b[0m  \u001b[0;31m# type: ignore[call-arg]  # mypy is not smart enough here\u001b[0m\u001b[0;34m\u001b[0m\u001b[0;34m\u001b[0m\u001b[0m\n\u001b[0;32m--> 232\u001b[0;31m         \u001b[0;32mraise\u001b[0m \u001b[0mexception_class\u001b[0m\u001b[0;34m(\u001b[0m\u001b[0mmessage\u001b[0m\u001b[0;34m,\u001b[0m \u001b[0mscreen\u001b[0m\u001b[0;34m,\u001b[0m \u001b[0mstacktrace\u001b[0m\u001b[0;34m)\u001b[0m\u001b[0;34m\u001b[0m\u001b[0;34m\u001b[0m\u001b[0m\n\u001b[0m",
            "\u001b[0;31mNoSuchElementException\u001b[0m: Message: no such element: Unable to locate element: {\"method\":\"xpath\",\"selector\":\"//*[@id=\"searchVo\"]/div[2]/footer/button/span\"}\n  (Session info: chrome=131.0.6778.87); For documentation on this error, please visit: https://www.selenium.dev/documentation/webdriver/troubleshooting/errors#no-such-element-exception\nStacktrace:\n#0 0x59c91bd9d34a <unknown>\n#1 0x59c91b8b36e0 <unknown>\n#2 0x59c91b9023e6 <unknown>\n#3 0x59c91b902681 <unknown>\n#4 0x59c91b947b04 <unknown>\n#5 0x59c91b92648d <unknown>\n#6 0x59c91b944ed7 <unknown>\n#7 0x59c91b926203 <unknown>\n#8 0x59c91b8f4cc0 <unknown>\n#9 0x59c91b8f5c9e <unknown>\n#10 0x59c91bd6ad3b <unknown>\n#11 0x59c91bd6ecc2 <unknown>\n#12 0x59c91bd57b6c <unknown>\n#13 0x59c91bd6f837 <unknown>\n#14 0x59c91bd3d10f <unknown>\n#15 0x59c91bd8c5a8 <unknown>\n#16 0x59c91bd8c770 <unknown>\n#17 0x59c91bd9c1c6 <unknown>\n#18 0x7e0804dbeac3 <unknown>\n"
          ]
        }
      ]
    },
    {
      "cell_type": "code",
      "source": [
        "# Loop through all 135 pages\n",
        "for page in tqdm(range(88, 136)):\n",
        "\n",
        "    print(f\"Processing page {page}...\")\n",
        "\n",
        "      current_page = driver.find_element(By.XPATH, f'//div[@class=\"paging\"]//a[@href=\"#{page}\"]')\n",
        "      current_page.click()\n",
        "      time.sleep(5)  # Wait for the page to load\n",
        "\n",
        "    try:\n",
        "\n",
        "      # Locate the table\n",
        "      table = driver.find_element(By.XPATH, '//*[@id=\"ULS0202001Q_T1_table1\"]/tbody')\n",
        "\n",
        "      # Parse the table HTML using BeautifulSoup\n",
        "      soup = BeautifulSoup(table.get_attribute(\"outerHTML\"), 'html.parser')\n",
        "\n",
        "      # Extract table rows\n",
        "      rows = soup.find_all('tr')\n",
        "\n",
        "      # Iterate through the rows and extract data\n",
        "      for row in rows:\n",
        "          cols = row.find_all('td')\n",
        "          cols = [col.text.strip() for col in cols]  # Extract text and clean up whitespace\n",
        "          if cols:  # Check if the row has data\n",
        "              # Click on the `dtlInfo` link\n",
        "              dtl_link = row.find('a', class_='dtlInfo')\n",
        "              if dtl_link:\n",
        "                  dtl_element = driver.find_element(By.LINK_TEXT, dtl_link.text)\n",
        "                  dtl_element.click()\n",
        "                  time.sleep(1)  # Wait for the leftArea and rightArea to load\n",
        "\n",
        "                  # Extract text from leftArea\n",
        "                  left_area = driver.find_element(By.ID, 'divLft_tab4')\n",
        "                  left_area_text = left_area.text.strip()\n",
        "\n",
        "                  # Extract text from rightArea\n",
        "                  right_area = driver.find_element(By.ID, 'divRght_tab4')\n",
        "                  right_area_text = right_area.text.strip()\n",
        "\n",
        "                  # Go back to the main page to continue scraping\n",
        "                  time.sleep(1)  # Wait for the page to load\n",
        "\n",
        "                  # Add data to the DataFrame\n",
        "                  data.loc[len(data)] = cols + [left_area_text, right_area_text]\n",
        "\n",
        "    except Exception as e:\n",
        "        print(f\"Could not navigate to page {page}: {e}\")\n",
        "        error_page=page\n",
        "        print(f'error page : {error_page} page')\n",
        "        break\n",
        "\n",
        "# Display the DataFrame\n",
        "\n",
        "# Save the data to a CSV file\n",
        "data.to_csv('HSdescription_data.csv', index=False, encoding='utf-8-sig')"
      ],
      "metadata": {
        "id": "3e7l4BxNAz0y"
      },
      "execution_count": null,
      "outputs": []
    }
  ],
  "metadata": {
    "kernelspec": {
      "display_name": "Python 3",
      "language": "python",
      "name": "python3"
    },
    "language_info": {
      "codemirror_mode": {
        "name": "ipython",
        "version": 3
      },
      "file_extension": ".py",
      "mimetype": "text/x-python",
      "name": "python",
      "nbconvert_exporter": "python",
      "pygments_lexer": "ipython3",
      "version": "3.11.4"
    },
    "colab": {
      "provenance": []
    }
  },
  "nbformat": 4,
  "nbformat_minor": 0
}