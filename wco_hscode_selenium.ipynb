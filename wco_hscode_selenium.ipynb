{
  "cells": [
    {
      "cell_type": "code",
      "source": [
        "from selenium import webdriver\n",
        "from selenium.webdriver.common.by import By\n",
        "import time\n",
        "import os\n",
        "\n",
        "# 다운로드 경로 설정\n",
        "download_dir = \"C:/path/to/download\"  # 원하는 다운로드 경로로 변경하세요\n",
        "\n",
        "# Chrome 옵션 설정 (자동 다운로드를 위한 설정)\n",
        "chrome_options = webdriver.ChromeOptions()\n",
        "prefs = {\n",
        "    \"download.default_directory\": download_dir,  # 다운로드 경로 설정\n",
        "    \"download.prompt_for_download\": False,  # 다운로드 시 확인 창 비활성화\n",
        "    \"plugins.always_open_pdf_externally\": True  # PDF 파일을 브라우저에서 열지 않고 바로 다운로드\n",
        "}\n",
        "chrome_options.add_experimental_option(\"prefs\", prefs)\n",
        "\n",
        "# ChromeDriver 실행\n",
        "driver = webdriver.Chrome(options=chrome_options)\n",
        "\n",
        "# 타겟 URL로 이동\n",
        "url = \"https://www.wcoomd.org/en/topics/nomenclature/instrument-and-tools/hs-nomenclature-2022-edition/hs-nomenclature-2022-edition.aspx\"\n",
        "driver.get(url)\n",
        "\n",
        "# 페이지 로드 대기 (필요한 경우)\n",
        "time.sleep(5)  # 페이지가 완전히 로드될 때까지 대기\n",
        "\n",
        "# a 태그 중 PDF 파일 링크 찾기\n",
        "pdf_links = driver.find_elements(By.XPATH, \"//a[contains(@href, '.pdf')]\")\n",
        "\n",
        "# 각 PDF 링크를 클릭하여 다운로드\n",
        "for link in pdf_links:\n",
        "    pdf_url = link.get_attribute(\"href\")\n",
        "    print(f\"Downloading: {pdf_url}\")\n",
        "    driver.get(pdf_url)  # PDF 파일 링크로 이동하여 다운로드 시작\n",
        "    time.sleep(3)  # 각 파일이 다운로드될 시간을 확보\n",
        "\n",
        "# 작업 완료 후 브라우저 닫기\n",
        "driver.quit()\n",
        "\n",
        "print(\"모든 PDF 파일이 다운로드되었습니다.\")"
      ],
      "metadata": {
        "id": "veZfp9G8Pix-"
      },
      "execution_count": null,
      "outputs": []
    }
  ],
  "metadata": {
    "colab": {
      "provenance": []
    },
    "kernelspec": {
      "display_name": "Python 3",
      "name": "python3"
    },
    "language_info": {
      "codemirror_mode": {
        "name": "ipython",
        "version": 3
      },
      "file_extension": ".py",
      "mimetype": "text/x-python",
      "name": "python",
      "nbconvert_exporter": "python",
      "pygments_lexer": "ipython3",
      "version": "3.9.17"
    }
  },
  "nbformat": 4,
  "nbformat_minor": 0
}